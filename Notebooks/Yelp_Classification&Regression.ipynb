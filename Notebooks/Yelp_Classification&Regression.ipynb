{
 "cells": [
  {
   "cell_type": "markdown",
   "metadata": {},
   "source": [
    "# Homework 5 - Yelp Data Analysis\n",
    "\n",
    "In this notebook, we will work on two tasks. \n",
    "1. Predicting restaurant's rating \n",
    "2. Predicting Whether an Establishment has shut down"
   ]
  },
  {
   "cell_type": "code",
   "execution_count": 47,
   "metadata": {},
   "outputs": [],
   "source": [
    "import pandas as pd\n",
    "from collections import Counter\n",
    "import numpy as np\n",
    "import ast\n",
    "\n",
    "# reference: https://machinelearningmastery.com/smote-oversampling-for-imbalanced-classification/\n",
    "# pip install imblearn\n",
    "\n",
    "\n",
    "import seaborn as sns\n",
    "from sklearn import metrics\n",
    "from sklearn.metrics import confusion_matrix, classification_report, roc_auc_score\n",
    "import matplotlib.pyplot as plt\n",
    "from sklearn.model_selection import train_test_split\n",
    "\n",
    "from pdpbox.pdp import pdp_isolate, pdp_plot\n",
    "\n",
    "%matplotlib inline"
   ]
  },
  {
   "cell_type": "markdown",
   "metadata": {},
   "source": [
    "## Part I. Data Exploration\n",
    "\n",
    "The first step in performing a succesfull analysis is properly exploring our data. Below I have started by using pandas built in info() function to get some stats about all of the metrics in our data."
   ]
  },
  {
   "cell_type": "code",
   "execution_count": 48,
   "metadata": {},
   "outputs": [
    {
     "name": "stdout",
     "output_type": "stream",
     "text": [
      "(192609, 54)\n"
     ]
    }
   ],
   "source": [
    "df_union = pd.read_csv(\"business_unfold.csv\", low_memory=False)\n",
    "print(df_union.shape)"
   ]
  },
  {
   "cell_type": "code",
   "execution_count": 49,
   "metadata": {},
   "outputs": [
    {
     "name": "stdout",
     "output_type": "stream",
     "text": [
      "Unnamed: 0 is good to keep! Less than 75% of its values are null-objects.\n",
      "address is good to keep! Less than 75% of its values are null-objects.\n",
      "business_id is good to keep! Less than 75% of its values are null-objects.\n",
      "categories is good to keep! Less than 75% of its values are null-objects.\n",
      "city is good to keep! Less than 75% of its values are null-objects.\n",
      "hours is good to keep! Less than 75% of its values are null-objects.\n",
      "is_open is good to keep! Less than 75% of its values are null-objects.\n",
      "latitude is good to keep! Less than 75% of its values are null-objects.\n",
      "longitude is good to keep! Less than 75% of its values are null-objects.\n",
      "name is good to keep! Less than 75% of its values are null-objects.\n",
      "postal_code is good to keep! Less than 75% of its values are null-objects.\n",
      "review_count is good to keep! Less than 75% of its values are null-objects.\n",
      "stars is good to keep! Less than 75% of its values are null-objects.\n",
      "state is good to keep! Less than 75% of its values are null-objects.\n",
      "businessID is good to keep! Less than 75% of its values are null-objects.\n",
      "Alcohol is good to keep! Less than 75% of its values are null-objects.\n",
      "BikeParking is good to keep! Less than 75% of its values are null-objects.\n",
      "BusinessAcceptsCreditCards is good to keep! Less than 75% of its values are null-objects.\n",
      "BusinessParking is good to keep! Less than 75% of its values are null-objects.\n",
      "GoodForKids is good to keep! Less than 75% of its values are null-objects.\n",
      "OutdoorSeating is good to keep! Less than 75% of its values are null-objects.\n",
      "RestaurantsAttire is good to keep! Less than 75% of its values are null-objects.\n",
      "RestaurantsDelivery is good to keep! Less than 75% of its values are null-objects.\n",
      "RestaurantsGoodForGroups is good to keep! Less than 75% of its values are null-objects.\n",
      "RestaurantsPriceRange2 is good to keep! Less than 75% of its values are null-objects.\n",
      "RestaurantsReservations is good to keep! Less than 75% of its values are null-objects.\n",
      "RestaurantsTakeOut is good to keep! Less than 75% of its values are null-objects.\n",
      "WiFi is good to keep! Less than 75% of its values are null-objects.\n",
      "(28) columns are good to keep\n",
      "\n",
      "\n",
      "\n",
      "AcceptsInsurance is marked for removal\n",
      "AgesAllowed is marked for removal\n",
      "Ambience is marked for removal\n",
      "BYOB is marked for removal\n",
      "BYOBCorkage is marked for removal\n",
      "BestNights is marked for removal\n",
      "BusinessAcceptsBitcoin is marked for removal\n",
      "ByAppointmentOnly is marked for removal\n",
      "Caters is marked for removal\n",
      "CoatCheck is marked for removal\n",
      "Corkage is marked for removal\n",
      "DietaryRestrictions is marked for removal\n",
      "DogsAllowed is marked for removal\n",
      "DriveThru is marked for removal\n",
      "GoodForDancing is marked for removal\n",
      "GoodForMeal is marked for removal\n",
      "HairSpecializesIn is marked for removal\n",
      "HappyHour is marked for removal\n",
      "HasTV is marked for removal\n",
      "Music is marked for removal\n",
      "NoiseLevel is marked for removal\n",
      "Open24Hours is marked for removal\n",
      "RestaurantsCounterService is marked for removal\n",
      "RestaurantsTableService is marked for removal\n",
      "Smoking is marked for removal\n",
      "WheelchairAccessible is marked for removal\n",
      "(26) columns have been marked for removal\n"
     ]
    }
   ],
   "source": [
    "# select columns with less than 75% of missing values\n",
    "\n",
    "columns = df_union.columns\n",
    "marked_for_removal = []\n",
    "good_to_keep = []\n",
    "for column in columns:\n",
    "    temp = df_union[column]\n",
    "    temp_describe = temp.isnull().describe()\n",
    "    if temp_describe['top'] == True and temp_describe['freq'] > (temp_describe['count']*.75):\n",
    "        marked_for_removal.append(column)\n",
    "    else:\n",
    "        good_to_keep.append(column)\n",
    "        print(column + \" is good to keep! Less than 75% of its values are null-objects.\")\n",
    "print('('+ str(len(good_to_keep)) + ') columns are good to keep')\n",
    "print('\\n\\n')\n",
    "for column in marked_for_removal:\n",
    "    print(column + \" is marked for removal\")\n",
    "print('('+ str(len(marked_for_removal)) + ') columns have been marked for removal')\n",
    "    "
   ]
  },
  {
   "cell_type": "markdown",
   "metadata": {},
   "source": [
    "The columns that have been marked for removal must now be removed from the data"
   ]
  },
  {
   "cell_type": "code",
   "execution_count": 50,
   "metadata": {},
   "outputs": [
    {
     "name": "stdout",
     "output_type": "stream",
     "text": [
      "Unnamed: 0\n",
      "address\n",
      "business_id\n",
      "categories\n",
      "city\n",
      "hours\n",
      "is_open\n",
      "latitude\n",
      "longitude\n",
      "name\n",
      "postal_code\n",
      "review_count\n",
      "stars\n",
      "state\n",
      "businessID\n",
      "Alcohol\n",
      "BikeParking\n",
      "BusinessAcceptsCreditCards\n",
      "BusinessParking\n",
      "GoodForKids\n",
      "OutdoorSeating\n",
      "RestaurantsAttire\n",
      "RestaurantsDelivery\n",
      "RestaurantsGoodForGroups\n",
      "RestaurantsPriceRange2\n",
      "RestaurantsReservations\n",
      "RestaurantsTakeOut\n",
      "WiFi\n"
     ]
    }
   ],
   "source": [
    "#dropping the columns that have been marked for removal\n",
    "df = df_union.drop(marked_for_removal, axis=1)\n",
    "for i in list(df.columns):\n",
    "    print(i)"
   ]
  },
  {
   "cell_type": "code",
   "execution_count": 51,
   "metadata": {},
   "outputs": [],
   "source": [
    "# from the above list, only keep the columns you are interested.\n",
    "\n",
    "# latitude: a geographic coordinate that specifies the north–south position of a point on the Earth's surface\n",
    "# longitude: a geographic coordinate that specifies the east–west position of a point on the Earth's surface\n",
    "# review_count: the total number of reviews made on a business\n",
    "# stars: the avg star rating for a business\n",
    "# RestaurantsPriceRange2: the price range of a business ranging from 1-4\n",
    "# HasBikeParking: binary variable denoting whether a restaurant has bike parking or not\n",
    "# AcceptsCreditCards: a binary variable denoting whether a restaurant accepts credit cards or not\n",
    "\n",
    "keeplist = ['is_open','latitude','longitude','review_count','stars','Alcohol','BikeParking','BusinessAcceptsCreditCards','OutdoorSeating','GoodForKids']\n",
    "df = df[keeplist].dropna()"
   ]
  },
  {
   "cell_type": "code",
   "execution_count": 52,
   "metadata": {},
   "outputs": [
    {
     "name": "stdout",
     "output_type": "stream",
     "text": [
      "<class 'pandas.core.frame.DataFrame'>\n",
      "Int64Index: 22970 entries, 2 to 192603\n",
      "Data columns (total 10 columns):\n",
      " #   Column                      Non-Null Count  Dtype  \n",
      "---  ------                      --------------  -----  \n",
      " 0   is_open                     22970 non-null  int64  \n",
      " 1   latitude                    22970 non-null  float64\n",
      " 2   longitude                   22970 non-null  float64\n",
      " 3   review_count                22970 non-null  int64  \n",
      " 4   stars                       22970 non-null  float64\n",
      " 5   Alcohol                     22970 non-null  object \n",
      " 6   BikeParking                 22970 non-null  object \n",
      " 7   BusinessAcceptsCreditCards  22970 non-null  object \n",
      " 8   OutdoorSeating              22970 non-null  object \n",
      " 9   GoodForKids                 22970 non-null  object \n",
      "dtypes: float64(3), int64(2), object(5)\n",
      "memory usage: 1.9+ MB\n",
      "None\n",
      "(22970, 10)\n"
     ]
    },
    {
     "data": {
      "text/html": [
       "<div>\n",
       "<style scoped>\n",
       "    .dataframe tbody tr th:only-of-type {\n",
       "        vertical-align: middle;\n",
       "    }\n",
       "\n",
       "    .dataframe tbody tr th {\n",
       "        vertical-align: top;\n",
       "    }\n",
       "\n",
       "    .dataframe thead th {\n",
       "        text-align: right;\n",
       "    }\n",
       "</style>\n",
       "<table border=\"1\" class=\"dataframe\">\n",
       "  <thead>\n",
       "    <tr style=\"text-align: right;\">\n",
       "      <th></th>\n",
       "      <th>is_open</th>\n",
       "      <th>latitude</th>\n",
       "      <th>longitude</th>\n",
       "      <th>review_count</th>\n",
       "      <th>stars</th>\n",
       "      <th>Alcohol</th>\n",
       "      <th>BikeParking</th>\n",
       "      <th>BusinessAcceptsCreditCards</th>\n",
       "      <th>OutdoorSeating</th>\n",
       "      <th>GoodForKids</th>\n",
       "    </tr>\n",
       "  </thead>\n",
       "  <tbody>\n",
       "    <tr>\n",
       "      <th>2</th>\n",
       "      <td>1</td>\n",
       "      <td>35.092564</td>\n",
       "      <td>-80.859132</td>\n",
       "      <td>170</td>\n",
       "      <td>4.0</td>\n",
       "      <td>u'beer_and_wine'</td>\n",
       "      <td>True</td>\n",
       "      <td>True</td>\n",
       "      <td>False</td>\n",
       "      <td>True</td>\n",
       "    </tr>\n",
       "    <tr>\n",
       "      <th>12</th>\n",
       "      <td>1</td>\n",
       "      <td>35.527410</td>\n",
       "      <td>-80.868003</td>\n",
       "      <td>9</td>\n",
       "      <td>3.5</td>\n",
       "      <td>'beer_and_wine'</td>\n",
       "      <td>True</td>\n",
       "      <td>True</td>\n",
       "      <td>True</td>\n",
       "      <td>False</td>\n",
       "    </tr>\n",
       "    <tr>\n",
       "      <th>13</th>\n",
       "      <td>1</td>\n",
       "      <td>41.708520</td>\n",
       "      <td>-81.359556</td>\n",
       "      <td>16</td>\n",
       "      <td>4.0</td>\n",
       "      <td>u'none'</td>\n",
       "      <td>True</td>\n",
       "      <td>True</td>\n",
       "      <td>False</td>\n",
       "      <td>True</td>\n",
       "    </tr>\n",
       "    <tr>\n",
       "      <th>22</th>\n",
       "      <td>1</td>\n",
       "      <td>36.080168</td>\n",
       "      <td>-115.182756</td>\n",
       "      <td>107</td>\n",
       "      <td>4.0</td>\n",
       "      <td>u'full_bar'</td>\n",
       "      <td>False</td>\n",
       "      <td>True</td>\n",
       "      <td>True</td>\n",
       "      <td>False</td>\n",
       "    </tr>\n",
       "    <tr>\n",
       "      <th>25</th>\n",
       "      <td>1</td>\n",
       "      <td>36.195615</td>\n",
       "      <td>-115.040529</td>\n",
       "      <td>184</td>\n",
       "      <td>4.5</td>\n",
       "      <td>u'beer_and_wine'</td>\n",
       "      <td>True</td>\n",
       "      <td>True</td>\n",
       "      <td>False</td>\n",
       "      <td>True</td>\n",
       "    </tr>\n",
       "  </tbody>\n",
       "</table>\n",
       "</div>"
      ],
      "text/plain": [
       "    is_open   latitude   longitude  review_count  stars           Alcohol  \\\n",
       "2         1  35.092564  -80.859132           170    4.0  u'beer_and_wine'   \n",
       "12        1  35.527410  -80.868003             9    3.5   'beer_and_wine'   \n",
       "13        1  41.708520  -81.359556            16    4.0           u'none'   \n",
       "22        1  36.080168 -115.182756           107    4.0       u'full_bar'   \n",
       "25        1  36.195615 -115.040529           184    4.5  u'beer_and_wine'   \n",
       "\n",
       "   BikeParking BusinessAcceptsCreditCards OutdoorSeating GoodForKids  \n",
       "2         True                       True          False        True  \n",
       "12        True                       True           True       False  \n",
       "13        True                       True          False        True  \n",
       "22       False                       True           True       False  \n",
       "25        True                       True          False        True  "
      ]
     },
     "execution_count": 52,
     "metadata": {},
     "output_type": "execute_result"
    }
   ],
   "source": [
    "# print the information of the dataset\n",
    "print(df.info())\n",
    "\n",
    "# print # of rows, # of columns\n",
    "print(df.shape)\n",
    "\n",
    "# print the first five rows\n",
    "df.head()"
   ]
  },
  {
   "cell_type": "markdown",
   "metadata": {},
   "source": [
    "# Part II. Data Cleansing\n",
    "\n",
    "Here we will convert text variables to numeric variable variables"
   ]
  },
  {
   "cell_type": "markdown",
   "metadata": {},
   "source": [
    "### Clean up the 'Alcohol' column"
   ]
  },
  {
   "cell_type": "code",
   "execution_count": 53,
   "metadata": {},
   "outputs": [
    {
     "data": {
      "text/plain": [
       "u'none'             7626\n",
       "u'full_bar'         6788\n",
       "'none'              3475\n",
       "u'beer_and_wine'    2183\n",
       "'full_bar'          1873\n",
       "'beer_and_wine'     1006\n",
       "None                  19\n",
       "Name: Alcohol, dtype: int64"
      ]
     },
     "execution_count": 53,
     "metadata": {},
     "output_type": "execute_result"
    }
   ],
   "source": [
    "df['Alcohol'].value_counts()"
   ]
  },
  {
   "cell_type": "code",
   "execution_count": 54,
   "metadata": {},
   "outputs": [],
   "source": [
    "df.loc[df[\"Alcohol\"] == \"u'none'\", \"Alcohol\"] = 0 \n",
    "df.loc[df[\"Alcohol\"] == \"'none'\", \"Alcohol\"] = 0\n",
    "df.loc[df[\"Alcohol\"] == \"None\", \"Alcohol\"] = 0\n",
    "\n",
    "df.loc[df[\"Alcohol\"] == \"u'beer_and_wine'\", \"Alcohol\"] = 1\n",
    "df.loc[df[\"Alcohol\"] == \"'beer_and_wine'\", \"Alcohol\"] = 1\n",
    "\n",
    "df.loc[df[\"Alcohol\"] == \"u'full_bar'\", \"Alcohol\"] = 2\n",
    "df.loc[df[\"Alcohol\"] == \"'full_bar'\", \"Alcohol\"] = 2"
   ]
  },
  {
   "cell_type": "code",
   "execution_count": 55,
   "metadata": {},
   "outputs": [
    {
     "data": {
      "text/plain": [
       "0    11120\n",
       "2     8661\n",
       "1     3189\n",
       "Name: Alcohol, dtype: int64"
      ]
     },
     "execution_count": 55,
     "metadata": {},
     "output_type": "execute_result"
    }
   ],
   "source": [
    "df['Alcohol'] = df['Alcohol'].astype(int)\n",
    "df['Alcohol'].value_counts()"
   ]
  },
  {
   "cell_type": "markdown",
   "metadata": {},
   "source": [
    "### Clean up other columns"
   ]
  },
  {
   "cell_type": "code",
   "execution_count": 56,
   "metadata": {},
   "outputs": [
    {
     "name": "stdout",
     "output_type": "stream",
     "text": [
      "<class 'pandas.core.frame.DataFrame'>\n",
      "Int64Index: 22970 entries, 2 to 192603\n",
      "Data columns (total 10 columns):\n",
      " #   Column                      Non-Null Count  Dtype  \n",
      "---  ------                      --------------  -----  \n",
      " 0   is_open                     22970 non-null  int64  \n",
      " 1   latitude                    22970 non-null  float64\n",
      " 2   longitude                   22970 non-null  float64\n",
      " 3   review_count                22970 non-null  int64  \n",
      " 4   stars                       22970 non-null  float64\n",
      " 5   Alcohol                     22970 non-null  int32  \n",
      " 6   BikeParking                 22970 non-null  object \n",
      " 7   BusinessAcceptsCreditCards  22970 non-null  object \n",
      " 8   OutdoorSeating              22970 non-null  object \n",
      " 9   GoodForKids                 22970 non-null  object \n",
      "dtypes: float64(3), int32(1), int64(2), object(4)\n",
      "memory usage: 1.8+ MB\n"
     ]
    }
   ],
   "source": [
    "df.info()"
   ]
  },
  {
   "cell_type": "code",
   "execution_count": 57,
   "metadata": {},
   "outputs": [
    {
     "data": {
      "text/plain": [
       "True     17501\n",
       "False     5447\n",
       "None        22\n",
       "Name: BikeParking, dtype: int64"
      ]
     },
     "execution_count": 57,
     "metadata": {},
     "output_type": "execute_result"
    }
   ],
   "source": [
    "# BikeParking\n",
    "df['BikeParking'].value_counts()"
   ]
  },
  {
   "cell_type": "code",
   "execution_count": 58,
   "metadata": {},
   "outputs": [
    {
     "data": {
      "text/plain": [
       "1    17501\n",
       "0     5469\n",
       "Name: BikeParking, dtype: int64"
      ]
     },
     "execution_count": 58,
     "metadata": {},
     "output_type": "execute_result"
    }
   ],
   "source": [
    "df.loc[df[\"BikeParking\"] == \"True\", \"BikeParking\"] = 1 \n",
    "df.loc[df[\"BikeParking\"] == \"False\", \"BikeParking\"] = 0\n",
    "df.loc[df[\"BikeParking\"] == \"None\", \"BikeParking\"] = 0\n",
    "\n",
    "df['BikeParking'] = df['BikeParking'].astype(int)\n",
    "df['BikeParking'].value_counts()"
   ]
  },
  {
   "cell_type": "code",
   "execution_count": 59,
   "metadata": {},
   "outputs": [
    {
     "data": {
      "text/plain": [
       "True     22489\n",
       "False      466\n",
       "None        15\n",
       "Name: BusinessAcceptsCreditCards, dtype: int64"
      ]
     },
     "execution_count": 59,
     "metadata": {},
     "output_type": "execute_result"
    }
   ],
   "source": [
    "# BusinessAcceptsCreditCards\n",
    "df['BusinessAcceptsCreditCards'].value_counts()"
   ]
  },
  {
   "cell_type": "code",
   "execution_count": 60,
   "metadata": {},
   "outputs": [
    {
     "data": {
      "text/plain": [
       "1    22489\n",
       "0      481\n",
       "Name: BusinessAcceptsCreditCards, dtype: int64"
      ]
     },
     "execution_count": 60,
     "metadata": {},
     "output_type": "execute_result"
    }
   ],
   "source": [
    "df.loc[df[\"BusinessAcceptsCreditCards\"] == \"True\", \"BusinessAcceptsCreditCards\"] = 1 \n",
    "df.loc[df[\"BusinessAcceptsCreditCards\"] == \"False\", \"BusinessAcceptsCreditCards\"] = 0\n",
    "df.loc[df[\"BusinessAcceptsCreditCards\"] == \"None\", \"BusinessAcceptsCreditCards\"] = 0\n",
    "\n",
    "df['BusinessAcceptsCreditCards'] = df['BusinessAcceptsCreditCards'].astype(int)\n",
    "df['BusinessAcceptsCreditCards'].value_counts()"
   ]
  },
  {
   "cell_type": "code",
   "execution_count": null,
   "metadata": {},
   "outputs": [],
   "source": [
    "# Task #1: change non-numeric values in the columns of 'OutdoorSeating','GoodForKids' to numeric values\n",
    "\n"
   ]
  },
  {
   "cell_type": "code",
   "execution_count": null,
   "metadata": {},
   "outputs": [],
   "source": []
  },
  {
   "cell_type": "code",
   "execution_count": null,
   "metadata": {},
   "outputs": [],
   "source": []
  },
  {
   "cell_type": "code",
   "execution_count": null,
   "metadata": {},
   "outputs": [],
   "source": []
  },
  {
   "cell_type": "code",
   "execution_count": null,
   "metadata": {},
   "outputs": [],
   "source": []
  },
  {
   "cell_type": "code",
   "execution_count": null,
   "metadata": {},
   "outputs": [],
   "source": []
  },
  {
   "cell_type": "markdown",
   "metadata": {},
   "source": [
    "## Part III. Model 1_Predictive Restaurant’s Rating (Regression)"
   ]
  },
  {
   "cell_type": "code",
   "execution_count": 43,
   "metadata": {},
   "outputs": [],
   "source": [
    "x_columns = ['latitude','longitude','review_count','Alcohol','BikeParking','BusinessAcceptsCreditCards','OutdoorSeating','GoodForKids']\n",
    "# plot the distribution of 'stars'"
   ]
  },
  {
   "cell_type": "code",
   "execution_count": 39,
   "metadata": {},
   "outputs": [
    {
     "data": {
      "text/plain": [
       "<matplotlib.axes._subplots.AxesSubplot at 0x27150cd12c8>"
      ]
     },
     "execution_count": 39,
     "metadata": {},
     "output_type": "execute_result"
    },
    {
     "data": {
      "image/png": "[encoded data removed]",
      "text/plain": [
       "<Figure size 432x288 with 1 Axes>"
      ]
     },
     "metadata": {
      "needs_background": "light"
     },
     "output_type": "display_data"
    }
   ],
   "source": [
    "df['stars'].hist()\n",
    "\n",
    "# if the distribution is too skewed, you might want to log-transform 'stars'.\n",
    "# df['stars'] = np.log(df['stars'])"
   ]
  },
  {
   "cell_type": "code",
   "execution_count": 44,
   "metadata": {},
   "outputs": [],
   "source": [
    "# split the dataset to train and test\n",
    "X = df[x_columns]\n",
    "y = df['stars']\n",
    "\n",
    "X_train, X_test, y_train, y_test = train_test_split(X, y, test_size = 0.3, random_state = 3)"
   ]
  },
  {
   "cell_type": "code",
   "execution_count": null,
   "metadata": {},
   "outputs": [],
   "source": [
    "# Task #2: build a Random Forest Regressor model\n",
    "\n",
    "\n",
    "\n"
   ]
  },
  {
   "cell_type": "code",
   "execution_count": null,
   "metadata": {},
   "outputs": [],
   "source": [
    "# Task #3: plot the features importance scores\n",
    "\n",
    "\n"
   ]
  },
  {
   "cell_type": "code",
   "execution_count": null,
   "metadata": {},
   "outputs": [],
   "source": [
    "# Task #4: create three pdpbox plots to explain the impact of 'review_count', 'Alcohol' on 'stars' separately.\n",
    "# Also, interpret the pdpbox plots."
   ]
  },
  {
   "cell_type": "code",
   "execution_count": null,
   "metadata": {},
   "outputs": [],
   "source": [
    "\n"
   ]
  },
  {
   "cell_type": "code",
   "execution_count": null,
   "metadata": {},
   "outputs": [],
   "source": [
    "\n"
   ]
  },
  {
   "cell_type": "code",
   "execution_count": null,
   "metadata": {},
   "outputs": [],
   "source": [
    "# Task #5: Measure model performance using RMSE\n",
    "\n",
    "from sklearn.metrics import mean_squared_error\n",
    "\n",
    "\n",
    "\n",
    "\n"
   ]
  },
  {
   "cell_type": "markdown",
   "metadata": {},
   "source": [
    "## Part IV. Model 2_Predictive Restaurant’s Longevity (Classification)\n",
    "\n",
    "In this part, we will build up a classification model, in which 'is_open' is the dependent variable (y)."
   ]
  },
  {
   "cell_type": "code",
   "execution_count": 41,
   "metadata": {},
   "outputs": [
    {
     "data": {
      "text/plain": [
       "1    18634\n",
       "0     4336\n",
       "Name: is_open, dtype: int64"
      ]
     },
     "execution_count": 41,
     "metadata": {},
     "output_type": "execute_result"
    },
    {
     "data": {
      "image/png": "[encoded data removed]",
      "text/plain": [
       "<Figure size 432x288 with 1 Axes>"
      ]
     },
     "metadata": {
      "needs_background": "light"
     },
     "output_type": "display_data"
    }
   ],
   "source": [
    "# Plot the distribution of the y variable\n",
    "sns.countplot(df.is_open, label=\"Count\")\n",
    "df['is_open'].value_counts()"
   ]
  },
  {
   "cell_type": "code",
   "execution_count": 61,
   "metadata": {},
   "outputs": [],
   "source": [
    "x_columns = ['latitude','longitude','review_count','stars','Alcohol','BikeParking','BusinessAcceptsCreditCards','OutdoorSeating','GoodForKids']"
   ]
  },
  {
   "cell_type": "code",
   "execution_count": 68,
   "metadata": {},
   "outputs": [
    {
     "name": "stdout",
     "output_type": "stream",
     "text": [
      "SMOTE Counter({1: 18634, 0: 18634})\n"
     ]
    }
   ],
   "source": [
    "# SMOTE: Synthetic Minority Oversampling Technique (synthesize new examples from the minority class)\n",
    "from imblearn.over_sampling import (SMOTE)\n",
    "\n",
    "sampler = SMOTE(sampling_strategy = 1)\n",
    "X_rs, y_rs = sampler.fit_sample(df[x_columns], df['is_open'])\n",
    "print('SMOTE {}'.format(Counter(y_rs)))\n",
    "\n",
    "X=pd.DataFrame(X_rs, columns=x_columns)\n",
    "y = pd.DataFrame(y_rs, columns = ['is_open'])\n",
    "\n",
    "# combine the columns in X and y\n",
    "df_new = pd.concat([X, y], axis=1)"
   ]
  },
  {
   "cell_type": "code",
   "execution_count": 69,
   "metadata": {},
   "outputs": [
    {
     "data": {
      "text/plain": [
       "1    18634\n",
       "0    18634\n",
       "Name: is_open, dtype: int64"
      ]
     },
     "execution_count": 69,
     "metadata": {},
     "output_type": "execute_result"
    },
    {
     "data": {
      "image/png": "[encoded data removed]",
      "text/plain": [
       "<Figure size 432x288 with 1 Axes>"
      ]
     },
     "metadata": {
      "needs_background": "light"
     },
     "output_type": "display_data"
    }
   ],
   "source": [
    "# Plot the distribution of the y variable\n",
    "sns.countplot(df_new.is_open, label=\"Count\")\n",
    "df_new['is_open'].value_counts()"
   ]
  },
  {
   "cell_type": "code",
   "execution_count": null,
   "metadata": {},
   "outputs": [],
   "source": [
    "# split the dataset for cross validation\n",
    "X_train, X_test, y_train, y_test = train_test_split\\\n",
    "  (X, y, train_size = 0.6, random_state = 1)"
   ]
  },
  {
   "cell_type": "code",
   "execution_count": null,
   "metadata": {},
   "outputs": [],
   "source": [
    "# Task #6: Create a Random Forest Classifier model \n",
    "\n",
    "\n",
    "\n",
    "\n"
   ]
  },
  {
   "cell_type": "code",
   "execution_count": null,
   "metadata": {},
   "outputs": [],
   "source": [
    "# Task #7: plot the features importance scores\n",
    "\n",
    "\n",
    "\n"
   ]
  },
  {
   "cell_type": "code",
   "execution_count": null,
   "metadata": {},
   "outputs": [],
   "source": [
    "# Task #8: create three pdpbox plots to explain the impact of 'stars', 'review_count', 'Alcohol' on 'is_open' separately.\n",
    "# Also, interpret the pdpbox plots."
   ]
  },
  {
   "cell_type": "code",
   "execution_count": null,
   "metadata": {},
   "outputs": [],
   "source": [
    "\n",
    "\n"
   ]
  },
  {
   "cell_type": "code",
   "execution_count": null,
   "metadata": {},
   "outputs": [],
   "source": [
    "\n",
    "\n",
    "\n"
   ]
  },
  {
   "cell_type": "code",
   "execution_count": null,
   "metadata": {},
   "outputs": [],
   "source": [
    "\n",
    "\n",
    "\n",
    "\n"
   ]
  }
 ],
 "metadata": {
  "kernelspec": {
   "display_name": "Python 3",
   "language": "python",
   "name": "python3"
  },
  "language_info": {
   "codemirror_mode": {
    "name": "ipython",
    "version": 3
   },
   "file_extension": ".py",
   "mimetype": "text/x-python",
   "name": "python",
   "nbconvert_exporter": "python",
   "pygments_lexer": "ipython3",
   "version": "3.7.6"
  }
 },
 "nbformat": 4,
 "nbformat_minor": 2
}
