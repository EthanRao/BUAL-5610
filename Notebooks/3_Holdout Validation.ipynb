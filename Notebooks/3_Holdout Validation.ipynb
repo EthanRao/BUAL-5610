{
 "cells": [
  {
   "cell_type": "markdown",
   "metadata": {},
   "source": [
    "# The Validation Set Approach (Holdout Validation)\n",
    "\n",
    "There are a few different types of cross-validation techniques we can use to evaluate a classifier's effectiveness. The simplest technique is called holdout validation, which involves:\n",
    "\n",
    "randomly splitting our dataset into a training data and a test set,\n",
    "\n",
    "\n",
    "fitting the model using the training set,\n",
    "\n",
    "\n",
    "making predictions on the test set.\n",
    "\n",
    "\n",
    "\n",
    "\n",
    "We'll randomly select 80% of the observations in the Smarket Dataframe as the training set and the remaining 20% as the test set. This ratio isn't set in stone, and you'll see many people using a 75%-25% split instead.\n",
    "\n",
    "We'll explore more advanced cross-validation techniques in later missions and will focus on holdout validation, the simplest kind of validation, in this mission. To split the data randomly into a training and a test set, we'll:\n",
    "\n",
    "\n"
   ]
  },
  {
   "cell_type": "code",
   "execution_count": 1,
   "metadata": {},
   "outputs": [],
   "source": [
    "import numpy as np\n",
    "import pandas as pd\n",
    "from sklearn.model_selection import train_test_split, cross_val_score\n",
    "from sklearn.linear_model import LogisticRegression\n",
    "from sklearn.metrics import mean_squared_error"
   ]
  },
  {
   "cell_type": "code",
   "execution_count": 2,
   "metadata": {},
   "outputs": [
    {
     "data": {
      "text/html": [
       "<div>\n",
       "<style scoped>\n",
       "    .dataframe tbody tr th:only-of-type {\n",
       "        vertical-align: middle;\n",
       "    }\n",
       "\n",
       "    .dataframe tbody tr th {\n",
       "        vertical-align: top;\n",
       "    }\n",
       "\n",
       "    .dataframe thead th {\n",
       "        text-align: right;\n",
       "    }\n",
       "</style>\n",
       "<table border=\"1\" class=\"dataframe\">\n",
       "  <thead>\n",
       "    <tr style=\"text-align: right;\">\n",
       "      <th></th>\n",
       "      <th>Unnamed: 0</th>\n",
       "      <th>Year</th>\n",
       "      <th>Lag1</th>\n",
       "      <th>Lag2</th>\n",
       "      <th>Lag3</th>\n",
       "      <th>Lag4</th>\n",
       "      <th>Lag5</th>\n",
       "      <th>Volume</th>\n",
       "      <th>Today</th>\n",
       "      <th>Direction</th>\n",
       "      <th>Down</th>\n",
       "      <th>Up</th>\n",
       "      <th>actual_label</th>\n",
       "      <th>Volume_sq</th>\n",
       "    </tr>\n",
       "  </thead>\n",
       "  <tbody>\n",
       "    <tr>\n",
       "      <th>310</th>\n",
       "      <td>311</td>\n",
       "      <td>2002</td>\n",
       "      <td>1.133</td>\n",
       "      <td>-0.666</td>\n",
       "      <td>0.228</td>\n",
       "      <td>-0.321</td>\n",
       "      <td>0.084</td>\n",
       "      <td>1.4479</td>\n",
       "      <td>-2.369</td>\n",
       "      <td>Down</td>\n",
       "      <td>1</td>\n",
       "      <td>0</td>\n",
       "      <td>0</td>\n",
       "      <td>2.096414</td>\n",
       "    </tr>\n",
       "    <tr>\n",
       "      <th>136</th>\n",
       "      <td>137</td>\n",
       "      <td>2001</td>\n",
       "      <td>1.608</td>\n",
       "      <td>-1.627</td>\n",
       "      <td>-1.637</td>\n",
       "      <td>-0.343</td>\n",
       "      <td>0.605</td>\n",
       "      <td>1.2807</td>\n",
       "      <td>1.045</td>\n",
       "      <td>Up</td>\n",
       "      <td>0</td>\n",
       "      <td>1</td>\n",
       "      <td>1</td>\n",
       "      <td>1.640192</td>\n",
       "    </tr>\n",
       "    <tr>\n",
       "      <th>566</th>\n",
       "      <td>567</td>\n",
       "      <td>2003</td>\n",
       "      <td>0.630</td>\n",
       "      <td>1.950</td>\n",
       "      <td>-0.376</td>\n",
       "      <td>0.646</td>\n",
       "      <td>-1.400</td>\n",
       "      <td>1.4602</td>\n",
       "      <td>-1.224</td>\n",
       "      <td>Down</td>\n",
       "      <td>1</td>\n",
       "      <td>0</td>\n",
       "      <td>0</td>\n",
       "      <td>2.132184</td>\n",
       "    </tr>\n",
       "    <tr>\n",
       "      <th>556</th>\n",
       "      <td>557</td>\n",
       "      <td>2003</td>\n",
       "      <td>1.214</td>\n",
       "      <td>-1.774</td>\n",
       "      <td>-0.578</td>\n",
       "      <td>-0.164</td>\n",
       "      <td>-0.548</td>\n",
       "      <td>1.4616</td>\n",
       "      <td>2.612</td>\n",
       "      <td>Up</td>\n",
       "      <td>0</td>\n",
       "      <td>1</td>\n",
       "      <td>1</td>\n",
       "      <td>2.136275</td>\n",
       "    </tr>\n",
       "    <tr>\n",
       "      <th>813</th>\n",
       "      <td>814</td>\n",
       "      <td>2004</td>\n",
       "      <td>-0.665</td>\n",
       "      <td>-0.209</td>\n",
       "      <td>0.767</td>\n",
       "      <td>0.851</td>\n",
       "      <td>0.529</td>\n",
       "      <td>1.4588</td>\n",
       "      <td>-0.106</td>\n",
       "      <td>Down</td>\n",
       "      <td>1</td>\n",
       "      <td>0</td>\n",
       "      <td>0</td>\n",
       "      <td>2.128097</td>\n",
       "    </tr>\n",
       "  </tbody>\n",
       "</table>\n",
       "</div>"
      ],
      "text/plain": [
       "     Unnamed: 0  Year   Lag1   Lag2   Lag3   Lag4   Lag5  Volume  Today  \\\n",
       "310         311  2002  1.133 -0.666  0.228 -0.321  0.084  1.4479 -2.369   \n",
       "136         137  2001  1.608 -1.627 -1.637 -0.343  0.605  1.2807  1.045   \n",
       "566         567  2003  0.630  1.950 -0.376  0.646 -1.400  1.4602 -1.224   \n",
       "556         557  2003  1.214 -1.774 -0.578 -0.164 -0.548  1.4616  2.612   \n",
       "813         814  2004 -0.665 -0.209  0.767  0.851  0.529  1.4588 -0.106   \n",
       "\n",
       "    Direction  Down  Up  actual_label  Volume_sq  \n",
       "310      Down     1   0             0   2.096414  \n",
       "136        Up     0   1             1   1.640192  \n",
       "566      Down     1   0             0   2.132184  \n",
       "556        Up     0   1             1   2.136275  \n",
       "813      Down     1   0             0   2.128097  "
      ]
     },
     "execution_count": 2,
     "metadata": {},
     "output_type": "execute_result"
    }
   ],
   "source": [
    "# instruction\n",
    "## use the **train_test_split()** funciton from the scikit-learn package\n",
    "# Read Smarket.csv into a Dataframe named stocks\n",
    "stocks = pd.read_csv('Data/Smarket.csv') \n",
    "\n",
    "stocks_up = pd.get_dummies(stocks['Direction'])\n",
    "# Join the dummy variables to the main dataframe\n",
    "stocks_new = pd.concat([stocks, stocks_up], axis=1)\n",
    "\n",
    "stocks_new[\"actual_label\"] = stocks_new[\"Up\"]\n",
    "stocks_new[\"Volume_sq\"] = stocks_new[\"Volume\"]*stocks_new[\"Volume\"]\n",
    "\n",
    "train, test = train_test_split(stocks_new, train_size=0.8, random_state=15)\n",
    "train.head()"
   ]
  },
  {
   "cell_type": "markdown",
   "metadata": {},
   "source": [
    "## Train a Logistic Regression model with the train dataset\n",
    "Now that we've split up the dataset into a training and a test set, we can:\n",
    "\n",
    "train a logistic regression model on just the *training* set,\n",
    "use the model to predict labels for the *test* set."
   ]
  },
  {
   "cell_type": "code",
   "execution_count": 3,
   "metadata": {},
   "outputs": [
    {
     "name": "stdout",
     "output_type": "stream",
     "text": [
      "[[-0.07821872 -0.01875277  0.01126101  0.03855466 -0.00392213  0.20445724]]\n"
     ]
    },
    {
     "name": "stderr",
     "output_type": "stream",
     "text": [
      "C:\\Anaconda\\lib\\site-packages\\sklearn\\linear_model\\logistic.py:432: FutureWarning: Default solver will be changed to 'lbfgs' in 0.22. Specify a solver to silence this warning.\n",
      "  FutureWarning)\n"
     ]
    }
   ],
   "source": [
    "logreg = LogisticRegression()\n",
    "\n",
    "# dt = DecisionTreeClassifier()\n",
    "x_columns = [\"Lag1\", \"Lag2\", \"Lag3\", \"Lag4\", \"Lag5\", \"Volume\"]\n",
    "\n",
    "# fit a logistic model with the train dataset\n",
    "logreg.fit(train[x_columns], train[\"actual_label\"])\n",
    "print(logreg.coef_)"
   ]
  },
  {
   "cell_type": "markdown",
   "metadata": {},
   "source": [
    "## Evaluate model performance with the test dataset\n",
    "\n",
    "Evaluate the accuracy of the predicted labels for the test set."
   ]
  },
  {
   "cell_type": "code",
   "execution_count": 4,
   "metadata": {},
   "outputs": [
    {
     "name": "stdout",
     "output_type": "stream",
     "text": [
      "The accuracy level for Reg1 is: 0.484\n",
      "Reg1 MSE: 0.5160\n"
     ]
    },
    {
     "name": "stderr",
     "output_type": "stream",
     "text": [
      "C:\\Anaconda\\lib\\site-packages\\ipykernel_launcher.py:3: SettingWithCopyWarning: \n",
      "A value is trying to be set on a copy of a slice from a DataFrame.\n",
      "Try using .loc[row_indexer,col_indexer] = value instead\n",
      "\n",
      "See the caveats in the documentation: http://pandas.pydata.org/pandas-docs/stable/indexing.html#indexing-view-versus-copy\n",
      "  This is separate from the ipykernel package so we can avoid doing imports until\n"
     ]
    }
   ],
   "source": [
    "# use the model to provide predictions for the test dataset\n",
    "fitted_labels = logreg.predict(test[x_columns])\n",
    "test[\"predicted_label\"] = fitted_labels\n",
    "\n",
    "matches = test[\"predicted_label\"] == test[\"actual_label\"]\n",
    "correct_predictions = test[matches]\n",
    "accuracy = len(correct_predictions) / len(test)\n",
    "print(\"The accuracy level for Reg1 is:\", accuracy)\n",
    "\n",
    "reg_mse = mean_squared_error(test[\"predicted_label\"], test[\"actual_label\"])\n",
    "print('Reg1 MSE: %.4f' % reg_mse)\n",
    "\n",
    "# In this case, logtistic regression correctly predicted the movement of the market ___ % of the time."
   ]
  },
  {
   "cell_type": "markdown",
   "metadata": {},
   "source": [
    "## Generate a new model with Volume_sq"
   ]
  },
  {
   "cell_type": "code",
   "execution_count": 5,
   "metadata": {},
   "outputs": [
    {
     "name": "stdout",
     "output_type": "stream",
     "text": [
      "[[-0.07810795 -0.01847347  0.01161489  0.03876639 -0.00363947  0.0987837\n",
      "   0.03457029]]\n"
     ]
    },
    {
     "name": "stderr",
     "output_type": "stream",
     "text": [
      "C:\\Anaconda\\lib\\site-packages\\sklearn\\linear_model\\logistic.py:432: FutureWarning: Default solver will be changed to 'lbfgs' in 0.22. Specify a solver to silence this warning.\n",
      "  FutureWarning)\n"
     ]
    }
   ],
   "source": [
    "# create a new logistic regression model with the volume_sq variable\n",
    "x_columns_2 = [\"Lag1\", \"Lag2\", \"Lag3\", \"Lag4\", \"Lag5\", \"Volume\", \"Volume_sq\"]\n",
    "\n",
    "logreg_2 = LogisticRegression()\n",
    "# fit a logistic model with the train dataset\n",
    "logreg_2.fit(train[x_columns_2], train[\"actual_label\"])\n",
    "print(logreg_2.coef_)"
   ]
  },
  {
   "cell_type": "markdown",
   "metadata": {},
   "source": [
    "## Evaluate the accuracy of the new model"
   ]
  },
  {
   "cell_type": "code",
   "execution_count": 6,
   "metadata": {},
   "outputs": [
    {
     "name": "stdout",
     "output_type": "stream",
     "text": [
      "The accuracy level of the new model =  0.484\n"
     ]
    },
    {
     "name": "stderr",
     "output_type": "stream",
     "text": [
      "C:\\Anaconda\\lib\\site-packages\\ipykernel_launcher.py:2: SettingWithCopyWarning: \n",
      "A value is trying to be set on a copy of a slice from a DataFrame.\n",
      "Try using .loc[row_indexer,col_indexer] = value instead\n",
      "\n",
      "See the caveats in the documentation: http://pandas.pydata.org/pandas-docs/stable/indexing.html#indexing-view-versus-copy\n",
      "  \n"
     ]
    }
   ],
   "source": [
    "fitted_labels_2 = logreg_2.predict(test[x_columns_2])\n",
    "test[\"predicted_label_2\"] = fitted_labels\n",
    "\n",
    "matches_2 = test[\"predicted_label_2\"] == test[\"actual_label\"]\n",
    "correct_predictions_2 = test[matches_2]\n",
    "accuracy_2 = len(correct_predictions_2) / len(test)\n",
    "print(\"The accuracy level of the new model = \", accuracy_2)"
   ]
  }
 ],
 "metadata": {
  "kernelspec": {
   "display_name": "Python 3",
   "language": "python",
   "name": "python3"
  },
  "language_info": {
   "codemirror_mode": {
    "name": "ipython",
    "version": 3
   },
   "file_extension": ".py",
   "mimetype": "text/x-python",
   "name": "python",
   "nbconvert_exporter": "python",
   "pygments_lexer": "ipython3",
   "version": "3.7.3"
  }
 },
 "nbformat": 4,
 "nbformat_minor": 1
}
