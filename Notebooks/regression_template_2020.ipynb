{
 "cells": [
  {
   "cell_type": "markdown",
   "metadata": {},
   "source": [
    "## Regression Prediction\n",
    "\n",
    "Desc: This notebook serves as a template for regression problems.\n",
    "\n",
    "In this example, we will be using the baseball player salary dataset. "
   ]
  },
  {
   "cell_type": "markdown",
   "metadata": {},
   "source": [
    "## Import the Hitters Dataset"
   ]
  },
  {
   "cell_type": "code",
   "execution_count": 1,
   "metadata": {},
   "outputs": [],
   "source": [
    "import pandas as pd\n",
    "import numpy as np\n",
    "from sklearn.metrics import mean_squared_error, mean_absolute_error\n",
    "from sklearn.model_selection import train_test_split, cross_val_score\n",
    "from sklearn.tree import DecisionTreeRegressor\n",
    "from sklearn.neural_network import MLPRegressor"
   ]
  },
  {
   "cell_type": "code",
   "execution_count": 2,
   "metadata": {},
   "outputs": [],
   "source": [
    "# import data\n",
    "hitters = pd.read_csv(\"Hitters.csv\", na_values=\"?\").dropna()"
   ]
  },
  {
   "cell_type": "code",
   "execution_count": 3,
   "metadata": {},
   "outputs": [
    {
     "data": {
      "text/html": [
       "<div>\n",
       "<style scoped>\n",
       "    .dataframe tbody tr th:only-of-type {\n",
       "        vertical-align: middle;\n",
       "    }\n",
       "\n",
       "    .dataframe tbody tr th {\n",
       "        vertical-align: top;\n",
       "    }\n",
       "\n",
       "    .dataframe thead th {\n",
       "        text-align: right;\n",
       "    }\n",
       "</style>\n",
       "<table border=\"1\" class=\"dataframe\">\n",
       "  <thead>\n",
       "    <tr style=\"text-align: right;\">\n",
       "      <th></th>\n",
       "      <th>Unnamed: 0</th>\n",
       "      <th>AtBat</th>\n",
       "      <th>Hits</th>\n",
       "      <th>HmRun</th>\n",
       "      <th>Runs</th>\n",
       "      <th>RBI</th>\n",
       "      <th>Walks</th>\n",
       "      <th>Years</th>\n",
       "      <th>CAtBat</th>\n",
       "      <th>CHits</th>\n",
       "      <th>...</th>\n",
       "      <th>CRuns</th>\n",
       "      <th>CRBI</th>\n",
       "      <th>CWalks</th>\n",
       "      <th>League</th>\n",
       "      <th>Division</th>\n",
       "      <th>PutOuts</th>\n",
       "      <th>Assists</th>\n",
       "      <th>Errors</th>\n",
       "      <th>Salary</th>\n",
       "      <th>NewLeague</th>\n",
       "    </tr>\n",
       "  </thead>\n",
       "  <tbody>\n",
       "    <tr>\n",
       "      <th>1</th>\n",
       "      <td>-Alan Ashby</td>\n",
       "      <td>315</td>\n",
       "      <td>81</td>\n",
       "      <td>7</td>\n",
       "      <td>24</td>\n",
       "      <td>38</td>\n",
       "      <td>39</td>\n",
       "      <td>14</td>\n",
       "      <td>3449</td>\n",
       "      <td>835</td>\n",
       "      <td>...</td>\n",
       "      <td>321</td>\n",
       "      <td>414</td>\n",
       "      <td>375</td>\n",
       "      <td>N</td>\n",
       "      <td>W</td>\n",
       "      <td>632</td>\n",
       "      <td>43</td>\n",
       "      <td>10</td>\n",
       "      <td>475.0</td>\n",
       "      <td>N</td>\n",
       "    </tr>\n",
       "    <tr>\n",
       "      <th>2</th>\n",
       "      <td>-Alvin Davis</td>\n",
       "      <td>479</td>\n",
       "      <td>130</td>\n",
       "      <td>18</td>\n",
       "      <td>66</td>\n",
       "      <td>72</td>\n",
       "      <td>76</td>\n",
       "      <td>3</td>\n",
       "      <td>1624</td>\n",
       "      <td>457</td>\n",
       "      <td>...</td>\n",
       "      <td>224</td>\n",
       "      <td>266</td>\n",
       "      <td>263</td>\n",
       "      <td>A</td>\n",
       "      <td>W</td>\n",
       "      <td>880</td>\n",
       "      <td>82</td>\n",
       "      <td>14</td>\n",
       "      <td>480.0</td>\n",
       "      <td>A</td>\n",
       "    </tr>\n",
       "    <tr>\n",
       "      <th>3</th>\n",
       "      <td>-Andre Dawson</td>\n",
       "      <td>496</td>\n",
       "      <td>141</td>\n",
       "      <td>20</td>\n",
       "      <td>65</td>\n",
       "      <td>78</td>\n",
       "      <td>37</td>\n",
       "      <td>11</td>\n",
       "      <td>5628</td>\n",
       "      <td>1575</td>\n",
       "      <td>...</td>\n",
       "      <td>828</td>\n",
       "      <td>838</td>\n",
       "      <td>354</td>\n",
       "      <td>N</td>\n",
       "      <td>E</td>\n",
       "      <td>200</td>\n",
       "      <td>11</td>\n",
       "      <td>3</td>\n",
       "      <td>500.0</td>\n",
       "      <td>N</td>\n",
       "    </tr>\n",
       "    <tr>\n",
       "      <th>4</th>\n",
       "      <td>-Andres Galarraga</td>\n",
       "      <td>321</td>\n",
       "      <td>87</td>\n",
       "      <td>10</td>\n",
       "      <td>39</td>\n",
       "      <td>42</td>\n",
       "      <td>30</td>\n",
       "      <td>2</td>\n",
       "      <td>396</td>\n",
       "      <td>101</td>\n",
       "      <td>...</td>\n",
       "      <td>48</td>\n",
       "      <td>46</td>\n",
       "      <td>33</td>\n",
       "      <td>N</td>\n",
       "      <td>E</td>\n",
       "      <td>805</td>\n",
       "      <td>40</td>\n",
       "      <td>4</td>\n",
       "      <td>91.5</td>\n",
       "      <td>N</td>\n",
       "    </tr>\n",
       "    <tr>\n",
       "      <th>5</th>\n",
       "      <td>-Alfredo Griffin</td>\n",
       "      <td>594</td>\n",
       "      <td>169</td>\n",
       "      <td>4</td>\n",
       "      <td>74</td>\n",
       "      <td>51</td>\n",
       "      <td>35</td>\n",
       "      <td>11</td>\n",
       "      <td>4408</td>\n",
       "      <td>1133</td>\n",
       "      <td>...</td>\n",
       "      <td>501</td>\n",
       "      <td>336</td>\n",
       "      <td>194</td>\n",
       "      <td>A</td>\n",
       "      <td>W</td>\n",
       "      <td>282</td>\n",
       "      <td>421</td>\n",
       "      <td>25</td>\n",
       "      <td>750.0</td>\n",
       "      <td>A</td>\n",
       "    </tr>\n",
       "  </tbody>\n",
       "</table>\n",
       "<p>5 rows × 21 columns</p>\n",
       "</div>"
      ],
      "text/plain": [
       "          Unnamed: 0  AtBat  Hits  HmRun  Runs  RBI  Walks  Years  CAtBat  \\\n",
       "1        -Alan Ashby    315    81      7    24   38     39     14    3449   \n",
       "2       -Alvin Davis    479   130     18    66   72     76      3    1624   \n",
       "3      -Andre Dawson    496   141     20    65   78     37     11    5628   \n",
       "4  -Andres Galarraga    321    87     10    39   42     30      2     396   \n",
       "5   -Alfredo Griffin    594   169      4    74   51     35     11    4408   \n",
       "\n",
       "   CHits  ...  CRuns  CRBI  CWalks  League Division PutOuts  Assists  Errors  \\\n",
       "1    835  ...    321   414     375       N        W     632       43      10   \n",
       "2    457  ...    224   266     263       A        W     880       82      14   \n",
       "3   1575  ...    828   838     354       N        E     200       11       3   \n",
       "4    101  ...     48    46      33       N        E     805       40       4   \n",
       "5   1133  ...    501   336     194       A        W     282      421      25   \n",
       "\n",
       "   Salary  NewLeague  \n",
       "1   475.0          N  \n",
       "2   480.0          A  \n",
       "3   500.0          N  \n",
       "4    91.5          N  \n",
       "5   750.0          A  \n",
       "\n",
       "[5 rows x 21 columns]"
      ]
     },
     "execution_count": 3,
     "metadata": {},
     "output_type": "execute_result"
    }
   ],
   "source": [
    "# print the first five lines\n",
    "hitters.head()"
   ]
  },
  {
   "cell_type": "code",
   "execution_count": 4,
   "metadata": {},
   "outputs": [
    {
     "name": "stdout",
     "output_type": "stream",
     "text": [
      "<class 'pandas.core.frame.DataFrame'>\n",
      "Int64Index: 263 entries, 1 to 321\n",
      "Data columns (total 21 columns):\n",
      " #   Column      Non-Null Count  Dtype  \n",
      "---  ------      --------------  -----  \n",
      " 0   Unnamed: 0  263 non-null    object \n",
      " 1   AtBat       263 non-null    int64  \n",
      " 2   Hits        263 non-null    int64  \n",
      " 3   HmRun       263 non-null    int64  \n",
      " 4   Runs        263 non-null    int64  \n",
      " 5   RBI         263 non-null    int64  \n",
      " 6   Walks       263 non-null    int64  \n",
      " 7   Years       263 non-null    int64  \n",
      " 8   CAtBat      263 non-null    int64  \n",
      " 9   CHits       263 non-null    int64  \n",
      " 10  CHmRun      263 non-null    int64  \n",
      " 11  CRuns       263 non-null    int64  \n",
      " 12  CRBI        263 non-null    int64  \n",
      " 13  CWalks      263 non-null    int64  \n",
      " 14  League      263 non-null    object \n",
      " 15  Division    263 non-null    object \n",
      " 16  PutOuts     263 non-null    int64  \n",
      " 17  Assists     263 non-null    int64  \n",
      " 18  Errors      263 non-null    int64  \n",
      " 19  Salary      263 non-null    float64\n",
      " 20  NewLeague   263 non-null    object \n",
      "dtypes: float64(1), int64(16), object(4)\n",
      "memory usage: 45.2+ KB\n"
     ]
    }
   ],
   "source": [
    "# list basic info\n",
    "hitters.info()"
   ]
  },
  {
   "cell_type": "markdown",
   "metadata": {},
   "source": [
    "## Explore the dataset"
   ]
  },
  {
   "cell_type": "markdown",
   "metadata": {},
   "source": [
    "### Plot the distribution of the variables "
   ]
  },
  {
   "cell_type": "code",
   "execution_count": 5,
   "metadata": {},
   "outputs": [
    {
     "data": {
      "image/png": "[encoded data removed]",
      "text/plain": [
       "<Figure size 1440x1080 with 6 Axes>"
      ]
     },
     "metadata": {
      "needs_background": "light"
     },
     "output_type": "display_data"
    }
   ],
   "source": [
    "%matplotlib inline\n",
    "import matplotlib.pyplot as plt\n",
    "hitters[[\"CAtBat\", \"CHits\", \"CHmRun\", \"CRBI\", 'Salary']].hist(bins=50, figsize=(20,15))\n",
    "plt.savefig(\"attribute_histogram_plots\")\n",
    "plt.show()"
   ]
  },
  {
   "cell_type": "markdown",
   "metadata": {},
   "source": [
    "Variables are all right skewed. It would be better to take the log of the variables. For the purpose of simplicity, here, we only apply log transformation on the y variable."
   ]
  },
  {
   "cell_type": "code",
   "execution_count": 6,
   "metadata": {},
   "outputs": [],
   "source": [
    "import numpy as np\n",
    "hitters[\"logSalary\"] = np.log(hitters[\"Salary\"]+1)"
   ]
  },
  {
   "cell_type": "code",
   "execution_count": 7,
   "metadata": {},
   "outputs": [
    {
     "data": {
      "text/plain": [
       "count     263.000000\n",
       "mean      535.925882\n",
       "std       451.118681\n",
       "min        67.500000\n",
       "25%       190.000000\n",
       "50%       425.000000\n",
       "75%       750.000000\n",
       "max      2460.000000\n",
       "Name: Salary, dtype: float64"
      ]
     },
     "execution_count": 7,
     "metadata": {},
     "output_type": "execute_result"
    }
   ],
   "source": [
    "hitters[\"Salary\"].describe()"
   ]
  },
  {
   "cell_type": "code",
   "execution_count": 8,
   "metadata": {},
   "outputs": [],
   "source": [
    "# if you wish to convert salary to binary variable\n",
    "\n",
    "# def partition(x):\n",
    "#     if x < 536:\n",
    "#         return 0\n",
    "#     return 1\n",
    "# sale['highSalary'] = sale[\"Salary\"].map(partition)\n",
    "\n",
    "# sale['highSalary2'] = sale[\"Salary\"].apply(lambda x: 0 if x < 536 else 1)"
   ]
  },
  {
   "cell_type": "code",
   "execution_count": 9,
   "metadata": {},
   "outputs": [
    {
     "name": "stdout",
     "output_type": "stream",
     "text": [
      "A    139\n",
      "N    124\n",
      "Name: League, dtype: int64\n",
      "W    134\n",
      "E    129\n",
      "Name: Division, dtype: int64\n"
     ]
    }
   ],
   "source": [
    "# convert object type to numeric values\n",
    "print(hitters[\"League\"].value_counts())\n",
    "print(hitters[\"Division\"].value_counts())"
   ]
  },
  {
   "cell_type": "code",
   "execution_count": 10,
   "metadata": {},
   "outputs": [],
   "source": [
    "# you can generate the numbers automatically\n",
    "hitters.League = pd.factorize(hitters.League)[0]\n",
    "\n",
    "# you can also generate the numbers by hardcoding\n",
    "hitters[\"Division\"] = hitters.Division.map({'W':0, 'E':1})\n",
    "\n",
    "# alternative approach\n",
    "# hitters.loc[hitters[\"Division\"] == \"W\", \"Division2\"] = 0\n",
    "# hitters.loc[hitters[\"Division\"] == \"E\", \"Division2\"] = 1\n"
   ]
  },
  {
   "cell_type": "code",
   "execution_count": 11,
   "metadata": {},
   "outputs": [],
   "source": [
    "# if there are missing values, you can fill missing values with medians\n",
    "# hitters[\"Age\"] = hitters[\"Age\"].fillna(hitters[\"Age\"].median())\n",
    "\n",
    "\n",
    "# remove special signs\n",
    "# hitters[\"Age\"] = hitters[\"Age\"].apply(lambda x: x.replace('+', '') if '+' in str(x) else x)"
   ]
  },
  {
   "cell_type": "code",
   "execution_count": 12,
   "metadata": {},
   "outputs": [],
   "source": [
    "# Create the x and y variables\n",
    "xlist = [\"CAtBat\", \"CHits\", \"CHmRun\", \"CRBI\", \"League\", \"Division\"]\n",
    "X = hitters[xlist]\n",
    "y = hitters[\"logSalary\"]"
   ]
  },
  {
   "cell_type": "code",
   "execution_count": 13,
   "metadata": {},
   "outputs": [
    {
     "data": {
      "text/html": [
       "<div>\n",
       "<style scoped>\n",
       "    .dataframe tbody tr th:only-of-type {\n",
       "        vertical-align: middle;\n",
       "    }\n",
       "\n",
       "    .dataframe tbody tr th {\n",
       "        vertical-align: top;\n",
       "    }\n",
       "\n",
       "    .dataframe thead th {\n",
       "        text-align: right;\n",
       "    }\n",
       "</style>\n",
       "<table border=\"1\" class=\"dataframe\">\n",
       "  <thead>\n",
       "    <tr style=\"text-align: right;\">\n",
       "      <th></th>\n",
       "      <th>CAtBat</th>\n",
       "      <th>CHits</th>\n",
       "      <th>CHmRun</th>\n",
       "      <th>CRBI</th>\n",
       "      <th>League</th>\n",
       "      <th>Division</th>\n",
       "    </tr>\n",
       "  </thead>\n",
       "  <tbody>\n",
       "    <tr>\n",
       "      <th>count</th>\n",
       "      <td>263.000000</td>\n",
       "      <td>263.000000</td>\n",
       "      <td>263.000000</td>\n",
       "      <td>263.000000</td>\n",
       "      <td>263.000000</td>\n",
       "      <td>263.000000</td>\n",
       "    </tr>\n",
       "    <tr>\n",
       "      <th>mean</th>\n",
       "      <td>2657.543726</td>\n",
       "      <td>722.186312</td>\n",
       "      <td>69.239544</td>\n",
       "      <td>330.418251</td>\n",
       "      <td>0.528517</td>\n",
       "      <td>0.490494</td>\n",
       "    </tr>\n",
       "    <tr>\n",
       "      <th>std</th>\n",
       "      <td>2286.582929</td>\n",
       "      <td>648.199644</td>\n",
       "      <td>82.197581</td>\n",
       "      <td>323.367668</td>\n",
       "      <td>0.500138</td>\n",
       "      <td>0.500863</td>\n",
       "    </tr>\n",
       "    <tr>\n",
       "      <th>min</th>\n",
       "      <td>19.000000</td>\n",
       "      <td>4.000000</td>\n",
       "      <td>0.000000</td>\n",
       "      <td>3.000000</td>\n",
       "      <td>0.000000</td>\n",
       "      <td>0.000000</td>\n",
       "    </tr>\n",
       "    <tr>\n",
       "      <th>25%</th>\n",
       "      <td>842.500000</td>\n",
       "      <td>212.000000</td>\n",
       "      <td>15.000000</td>\n",
       "      <td>95.000000</td>\n",
       "      <td>0.000000</td>\n",
       "      <td>0.000000</td>\n",
       "    </tr>\n",
       "    <tr>\n",
       "      <th>50%</th>\n",
       "      <td>1931.000000</td>\n",
       "      <td>516.000000</td>\n",
       "      <td>40.000000</td>\n",
       "      <td>230.000000</td>\n",
       "      <td>1.000000</td>\n",
       "      <td>0.000000</td>\n",
       "    </tr>\n",
       "    <tr>\n",
       "      <th>75%</th>\n",
       "      <td>3890.500000</td>\n",
       "      <td>1054.000000</td>\n",
       "      <td>92.500000</td>\n",
       "      <td>424.500000</td>\n",
       "      <td>1.000000</td>\n",
       "      <td>1.000000</td>\n",
       "    </tr>\n",
       "    <tr>\n",
       "      <th>max</th>\n",
       "      <td>14053.000000</td>\n",
       "      <td>4256.000000</td>\n",
       "      <td>548.000000</td>\n",
       "      <td>1659.000000</td>\n",
       "      <td>1.000000</td>\n",
       "      <td>1.000000</td>\n",
       "    </tr>\n",
       "  </tbody>\n",
       "</table>\n",
       "</div>"
      ],
      "text/plain": [
       "             CAtBat        CHits      CHmRun         CRBI      League  \\\n",
       "count    263.000000   263.000000  263.000000   263.000000  263.000000   \n",
       "mean    2657.543726   722.186312   69.239544   330.418251    0.528517   \n",
       "std     2286.582929   648.199644   82.197581   323.367668    0.500138   \n",
       "min       19.000000     4.000000    0.000000     3.000000    0.000000   \n",
       "25%      842.500000   212.000000   15.000000    95.000000    0.000000   \n",
       "50%     1931.000000   516.000000   40.000000   230.000000    1.000000   \n",
       "75%     3890.500000  1054.000000   92.500000   424.500000    1.000000   \n",
       "max    14053.000000  4256.000000  548.000000  1659.000000    1.000000   \n",
       "\n",
       "         Division  \n",
       "count  263.000000  \n",
       "mean     0.490494  \n",
       "std      0.500863  \n",
       "min      0.000000  \n",
       "25%      0.000000  \n",
       "50%      0.000000  \n",
       "75%      1.000000  \n",
       "max      1.000000  "
      ]
     },
     "execution_count": 13,
     "metadata": {},
     "output_type": "execute_result"
    }
   ],
   "source": [
    "# drag and drop pivot table \n",
    "# pivot_ui(hitters)\n",
    "\n",
    "# describe the X variables\n",
    "hitters[xlist].describe()"
   ]
  },
  {
   "cell_type": "markdown",
   "metadata": {},
   "source": [
    "## Divide the dataset into train and test sets"
   ]
  },
  {
   "cell_type": "code",
   "execution_count": 14,
   "metadata": {},
   "outputs": [],
   "source": [
    "X_train, X_test, y_train, y_test = train_test_split(X, y, test_size = 0.3, random_state = 3)"
   ]
  },
  {
   "cell_type": "code",
   "execution_count": 15,
   "metadata": {},
   "outputs": [
    {
     "data": {
      "text/html": [
       "<div>\n",
       "<style scoped>\n",
       "    .dataframe tbody tr th:only-of-type {\n",
       "        vertical-align: middle;\n",
       "    }\n",
       "\n",
       "    .dataframe tbody tr th {\n",
       "        vertical-align: top;\n",
       "    }\n",
       "\n",
       "    .dataframe thead th {\n",
       "        text-align: right;\n",
       "    }\n",
       "</style>\n",
       "<table border=\"1\" class=\"dataframe\">\n",
       "  <thead>\n",
       "    <tr style=\"text-align: right;\">\n",
       "      <th></th>\n",
       "      <th>CAtBat</th>\n",
       "      <th>CHits</th>\n",
       "      <th>CHmRun</th>\n",
       "      <th>CRBI</th>\n",
       "      <th>League</th>\n",
       "      <th>Division</th>\n",
       "    </tr>\n",
       "  </thead>\n",
       "  <tbody>\n",
       "    <tr>\n",
       "      <th>213</th>\n",
       "      <td>344</td>\n",
       "      <td>76</td>\n",
       "      <td>3</td>\n",
       "      <td>36</td>\n",
       "      <td>0</td>\n",
       "      <td>1</td>\n",
       "    </tr>\n",
       "    <tr>\n",
       "      <th>204</th>\n",
       "      <td>2051</td>\n",
       "      <td>549</td>\n",
       "      <td>62</td>\n",
       "      <td>263</td>\n",
       "      <td>1</td>\n",
       "      <td>0</td>\n",
       "    </tr>\n",
       "    <tr>\n",
       "      <th>152</th>\n",
       "      <td>278</td>\n",
       "      <td>86</td>\n",
       "      <td>4</td>\n",
       "      <td>38</td>\n",
       "      <td>0</td>\n",
       "      <td>0</td>\n",
       "    </tr>\n",
       "    <tr>\n",
       "      <th>62</th>\n",
       "      <td>1115</td>\n",
       "      <td>270</td>\n",
       "      <td>1</td>\n",
       "      <td>64</td>\n",
       "      <td>1</td>\n",
       "      <td>0</td>\n",
       "    </tr>\n",
       "    <tr>\n",
       "      <th>304</th>\n",
       "      <td>4086</td>\n",
       "      <td>1150</td>\n",
       "      <td>57</td>\n",
       "      <td>363</td>\n",
       "      <td>0</td>\n",
       "      <td>0</td>\n",
       "    </tr>\n",
       "  </tbody>\n",
       "</table>\n",
       "</div>"
      ],
      "text/plain": [
       "     CAtBat  CHits  CHmRun  CRBI  League  Division\n",
       "213     344     76       3    36       0         1\n",
       "204    2051    549      62   263       1         0\n",
       "152     278     86       4    38       0         0\n",
       "62     1115    270       1    64       1         0\n",
       "304    4086   1150      57   363       0         0"
      ]
     },
     "execution_count": 15,
     "metadata": {},
     "output_type": "execute_result"
    }
   ],
   "source": [
    "X_train.head()"
   ]
  },
  {
   "cell_type": "markdown",
   "metadata": {},
   "source": [
    "## Apply a linear regression model"
   ]
  },
  {
   "cell_type": "code",
   "execution_count": 16,
   "metadata": {},
   "outputs": [],
   "source": [
    "from sklearn.linear_model import LinearRegression\n",
    "reg = LinearRegression()\n",
    "reg.fit(X_train, y_train)\n",
    "\n",
    "# create a new column for the predicted salary\n",
    "hitters[\"reg_predict\"] = reg.predict(X)"
   ]
  },
  {
   "cell_type": "code",
   "execution_count": 17,
   "metadata": {},
   "outputs": [
    {
     "name": "stdout",
     "output_type": "stream",
     "text": [
      "                                 OLS Regression Results                                \n",
      "=======================================================================================\n",
      "Dep. Variable:              logSalary   R-squared (uncentered):                   0.818\n",
      "Model:                            OLS   Adj. R-squared (uncentered):              0.812\n",
      "Method:                 Least Squares   F-statistic:                              133.4\n",
      "Date:                Wed, 15 Apr 2020   Prob (F-statistic):                    3.75e-63\n",
      "Time:                        19:03:29   Log-Likelihood:                         -434.50\n",
      "No. Observations:                 184   AIC:                                      881.0\n",
      "Df Residuals:                     178   BIC:                                      900.3\n",
      "Df Model:                           6                                                  \n",
      "Covariance Type:            nonrobust                                                  \n",
      "==============================================================================\n",
      "                 coef    std err          t      P>|t|      [0.025      0.975]\n",
      "------------------------------------------------------------------------------\n",
      "CAtBat         0.0034      0.001      3.627      0.000       0.002       0.005\n",
      "CHits         -0.0087      0.003     -2.634      0.009      -0.015      -0.002\n",
      "CHmRun        -0.0139      0.011     -1.297      0.196      -0.035       0.007\n",
      "CRBI           0.0019      0.005      0.360      0.719      -0.009       0.012\n",
      "League         2.3339      0.349      6.695      0.000       1.646       3.022\n",
      "Division       2.5359      0.343      7.393      0.000       1.859       3.213\n",
      "==============================================================================\n",
      "Omnibus:                        3.791   Durbin-Watson:                   1.693\n",
      "Prob(Omnibus):                  0.150   Jarque-Bera (JB):                3.817\n",
      "Skew:                          -0.346   Prob(JB):                        0.148\n",
      "Kurtosis:                       2.865   Cond. No.                     7.36e+03\n",
      "==============================================================================\n",
      "\n",
      "Warnings:\n",
      "[1] Standard Errors assume that the covariance matrix of the errors is correctly specified.\n",
      "[2] The condition number is large, 7.36e+03. This might indicate that there are\n",
      "strong multicollinearity or other numerical problems.\n"
     ]
    }
   ],
   "source": [
    "# This part can print out the p-values for the variables\n",
    "\n",
    "import statsmodels.api as sm\n",
    "import statsmodels.regression.linear_model as smf\n",
    "results = smf.OLS(y_train,X_train).fit()\n",
    "print(results.summary())"
   ]
  },
  {
   "cell_type": "code",
   "execution_count": 18,
   "metadata": {},
   "outputs": [
    {
     "name": "stdout",
     "output_type": "stream",
     "text": [
      "Liner Regression RMSE: 0.7173\n"
     ]
    }
   ],
   "source": [
    "# Model Evaluation2: Calculate Root Mean Square Error (RMSE)\n",
    "y_pred = reg.predict(X_test)\n",
    "reg_mse = mean_squared_error(y_pred, y_test)\n",
    "reg_rmse = np.sqrt(reg_mse)\n",
    "print('Liner Regression RMSE: %.4f' % reg_rmse)"
   ]
  },
  {
   "cell_type": "code",
   "execution_count": 19,
   "metadata": {},
   "outputs": [
    {
     "name": "stdout",
     "output_type": "stream",
     "text": [
      "Liner Regression MAE: 0.5924\n"
     ]
    }
   ],
   "source": [
    "# Model Evaluation3: Calculate mean absolute error (MAE)\n",
    "lin_mae = mean_absolute_error(y_pred, y_test)\n",
    "print('Liner Regression MAE: %.4f' % lin_mae)"
   ]
  },
  {
   "cell_type": "markdown",
   "metadata": {},
   "source": [
    "## Apply a decision tree model"
   ]
  },
  {
   "cell_type": "code",
   "execution_count": 20,
   "metadata": {},
   "outputs": [],
   "source": [
    "regrtree = DecisionTreeRegressor(max_leaf_nodes = 3)\n",
    "regrtree.fit(X_train, y_train)\n",
    "\n",
    "hitters[\"tree_predict\"] = regrtree.predict(X)"
   ]
  },
  {
   "cell_type": "code",
   "execution_count": 21,
   "metadata": {},
   "outputs": [
    {
     "name": "stdout",
     "output_type": "stream",
     "text": [
      "Decision Tree RMSE: 0.7262\n"
     ]
    }
   ],
   "source": [
    "y_pred_tree = regrtree.predict(X_test)\n",
    "tree_mse = mean_squared_error(y_pred_tree, y_test)\n",
    "tree_rmse = np.sqrt(tree_mse)\n",
    "print('Decision Tree RMSE: %.4f' % tree_rmse)"
   ]
  },
  {
   "cell_type": "code",
   "execution_count": 22,
   "metadata": {},
   "outputs": [
    {
     "name": "stdout",
     "output_type": "stream",
     "text": [
      "Decision Tree MAE: 0.5245\n"
     ]
    }
   ],
   "source": [
    "# Model Evaluation3: Calculate mean absolute error (MAE)\n",
    "tree_mae = mean_absolute_error(y_pred_tree, y_test)\n",
    "print('Decision Tree MAE: %.4f' % tree_mae)"
   ]
  },
  {
   "cell_type": "code",
   "execution_count": 23,
   "metadata": {},
   "outputs": [],
   "source": [
    "# print out the tree image and the variable importance scores\n",
    "\n"
   ]
  },
  {
   "cell_type": "markdown",
   "metadata": {},
   "source": [
    "## Random forest model\n",
    "\n",
    "You may also print out the variable importance scores."
   ]
  },
  {
   "cell_type": "code",
   "execution_count": 24,
   "metadata": {},
   "outputs": [
    {
     "name": "stdout",
     "output_type": "stream",
     "text": [
      "Random Forest RMSE: 0.4320\n",
      "Random Forest MAE: 0.3301\n"
     ]
    }
   ],
   "source": [
    "from sklearn.ensemble import RandomForestRegressor\n",
    "forest_reg = RandomForestRegressor(random_state=42)\n",
    "forest_reg.fit(X_train, y_train)\n",
    "\n",
    "y_pred_forest = forest_reg.predict(X_test)\n",
    "forest_mse = mean_squared_error(y_pred_forest, y_test)\n",
    "forest_rmse = np.sqrt(forest_mse)\n",
    "print('Random Forest RMSE: %.4f' % forest_rmse)\n",
    "\n",
    "forest_mae = mean_absolute_error(y_pred_forest, y_test)\n",
    "print('Random Forest MAE: %.4f' % forest_mae)\n",
    "\n",
    "# you may also print out variable importance scores."
   ]
  },
  {
   "cell_type": "code",
   "execution_count": null,
   "metadata": {},
   "outputs": [],
   "source": []
  },
  {
   "cell_type": "markdown",
   "metadata": {},
   "source": [
    "## K-nearest Neighbor"
   ]
  },
  {
   "cell_type": "code",
   "execution_count": 25,
   "metadata": {},
   "outputs": [
    {
     "data": {
      "text/plain": [
       "KNeighborsRegressor(algorithm='auto', leaf_size=30, metric='minkowski',\n",
       "                    metric_params=None, n_jobs=None, n_neighbors=2, p=2,\n",
       "                    weights='uniform')"
      ]
     },
     "execution_count": 25,
     "metadata": {},
     "output_type": "execute_result"
    }
   ],
   "source": [
    "from sklearn.neighbors import KNeighborsRegressor\n",
    "knr = KNeighborsRegressor(n_neighbors=2)\n",
    "knr.fit(X_train, y_train)"
   ]
  },
  {
   "cell_type": "code",
   "execution_count": null,
   "metadata": {},
   "outputs": [],
   "source": []
  },
  {
   "cell_type": "code",
   "execution_count": null,
   "metadata": {},
   "outputs": [],
   "source": []
  },
  {
   "cell_type": "markdown",
   "metadata": {},
   "source": [
    "## Apply a neural network model"
   ]
  },
  {
   "cell_type": "code",
   "execution_count": 26,
   "metadata": {},
   "outputs": [],
   "source": [
    "# To improve the neural network performance, normalize the input variables\n",
    "\n",
    "from sklearn.preprocessing import StandardScaler\n",
    "scaler = StandardScaler()\n",
    "scaler.fit(X_train)\n",
    "X_train_nn = scaler.transform(X_train)\n",
    "X_test_nn = scaler.transform(X_test)"
   ]
  },
  {
   "cell_type": "code",
   "execution_count": 27,
   "metadata": {},
   "outputs": [],
   "source": [
    "from sklearn.neural_network import MLPRegressor\n",
    "mlp = MLPRegressor(hidden_layer_sizes=(30,30,30), max_iter=2000)\n",
    "mlp.fit(X_train_nn,y_train)\n",
    "\n",
    "hitters[\"mlp_predict\"] = mlp.predict(X)"
   ]
  },
  {
   "cell_type": "code",
   "execution_count": 28,
   "metadata": {},
   "outputs": [
    {
     "name": "stdout",
     "output_type": "stream",
     "text": [
      "Neural Network RMSE: 0.4981\n"
     ]
    }
   ],
   "source": [
    "y_pred_mlp = mlp.predict(X_test_nn)\n",
    "mlp_mse = mean_squared_error(y_pred_mlp, y_test)\n",
    "mlp_rmse = np.sqrt(mlp_mse)\n",
    "print('Neural Network RMSE: %.4f' % mlp_rmse)"
   ]
  },
  {
   "cell_type": "code",
   "execution_count": 29,
   "metadata": {},
   "outputs": [
    {
     "name": "stdout",
     "output_type": "stream",
     "text": [
      "Neural Network MAE: 0.3787\n"
     ]
    }
   ],
   "source": [
    "# Model Evaluation3: Calculate mean absolute error (MAE)\n",
    "mlp_mae = mean_absolute_error(y_pred_mlp, y_test)\n",
    "print('Neural Network MAE: %.4f' % mlp_mae)"
   ]
  },
  {
   "cell_type": "code",
   "execution_count": null,
   "metadata": {},
   "outputs": [],
   "source": []
  },
  {
   "cell_type": "markdown",
   "metadata": {},
   "source": [
    "## Apply a Support Vector Machine"
   ]
  },
  {
   "cell_type": "code",
   "execution_count": 30,
   "metadata": {},
   "outputs": [
    {
     "data": {
      "text/plain": [
       "SVR(C=1.0, cache_size=200, coef0=0.0, degree=3, epsilon=0.1, gamma='scale',\n",
       "    kernel='linear', max_iter=-1, shrinking=True, tol=0.001, verbose=False)"
      ]
     },
     "execution_count": 30,
     "metadata": {},
     "output_type": "execute_result"
    }
   ],
   "source": [
    "# reference: https://scikit-learn.org/stable/modules/generated/sklearn.svm.SVR.html\n",
    "\n",
    "from sklearn.svm import SVR\n",
    "svr = SVR(kernel = 'linear')\n",
    "svr.fit(X_train, y_train)\n",
    "\n",
    "\n",
    "\n"
   ]
  }
 ],
 "metadata": {
  "kernelspec": {
   "display_name": "Python 3",
   "language": "python",
   "name": "python3"
  },
  "language_info": {
   "codemirror_mode": {
    "name": "ipython",
    "version": 3
   },
   "file_extension": ".py",
   "mimetype": "text/x-python",
   "name": "python",
   "nbconvert_exporter": "python",
   "pygments_lexer": "ipython3",
   "version": "3.7.6"
  }
 },
 "nbformat": 4,
 "nbformat_minor": 2
}
