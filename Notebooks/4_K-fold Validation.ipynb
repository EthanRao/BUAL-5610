{
 "cells": [
  {
   "cell_type": "markdown",
   "metadata": {},
   "source": [
    "# K Fold Cross Validation\n",
    "\n",
    "K-fold cross-validation works by:\n",
    "\n",
    "* splitting the full dataset into k equal length partitions,\n",
    "* selecting k-1 partitions as the training set and\n",
    "* selecting the remaining partition as the test set\n",
    "* training the model on the training set,\n",
    "* using the trained model to predict labels on the test set,\n",
    "* computing an error metric (e.g. simple accuracy) and setting aside the value for later,\n",
    "* repeating all of the above steps k-1 times, until each partition has been used as the test set for an iteration,\n",
    "* calculating the mean of the k error values.\n",
    "\n",
    "Using 5 or 10 folds is common for k-fold cross-validation. \n"
   ]
  },
  {
   "cell_type": "markdown",
   "metadata": {},
   "source": [
    "## scikit-learn package\n",
    "When working in a production environment however, you should use scikit-learn. Scikit-learn has a few different tools that make performing cross validation easy. Similar to having to instantiate a LinearRegression or LogisticRegression object before you can train one of those models, you need to instantiate a KFold class before you can perform k-fold cross-validation:\n",
    "\n",
    "\n",
    "**kf = KFold(n, n_folds, shuffle=False, random_state=None)**\n",
    "where:\n",
    "\n",
    "* n is the number of observations in the dataset,\n",
    "* n_folds is the number of folds you want to use,\n",
    "* shuffle is used to toggle shuffling of the ordering of the observations in the dataset,\n",
    "* random_state is used to specify a seed value if shuffle is set to True.\n",
    "    \n",
    "You'll notice here that only the first parameter depends on the dataset at all. This is because the KFold class returns an iterator object but won't actually handle the training and testing of models. If we're primarily only interested in accuracy and error metrics for each fold, we can use the KFold class in conjunction with the **cross_val_score** function, which will handle training and testing of the models in each fold.\n",
    "\n",
    "Here are the relevant parameters for the cross_val_score function:\n",
    "\n",
    "**cross_val_score(estimator, X, Y, scoring=None, cv=None)**\n",
    "where:\n",
    "\n",
    "* estimator is a sklearn model that implements the fit method (e.g. instance of LinearRegression or LogisticRegression),\n",
    "* X is the list or 2D array containing the features you want to train on,\n",
    "* y is a list containing the values you want to predict (target column),\n",
    "* scoring is a string describing the scoring criteria (see more at: http://scikit-learn.org/stable/modules/model_evaluation.html).\n",
    "* cv describes the number of folds. Here are some examples of accepted values:\n",
    "  * an instance of the KFold class,\n",
    "  * an integer representing the number of folds.\n",
    "  * Depending on the scoring criteria you specify, either a single value is returned (e.g. average_precision) or an array of values (e.g. accuracy), one value for each fold.\n",
    "\n",
    "Here's the general workflow for performing k-fold cross-validation using the classes we just described:\n",
    "\n",
    "instantiate the model class you want to fit (e.g. LogisticRegression),\n",
    "instantiate the KFold class and using the parameters to specify the k-fold cross-validation attributes you want,\n",
    "use the cross_val_score function to return the scoring metric you're interested in.\n"
   ]
  },
  {
   "cell_type": "code",
   "execution_count": 1,
   "metadata": {},
   "outputs": [],
   "source": [
    "from sklearn.model_selection import KFold, cross_val_score\n",
    "from sklearn.linear_model import LogisticRegression\n",
    "import pandas as pd"
   ]
  },
  {
   "cell_type": "code",
   "execution_count": 2,
   "metadata": {},
   "outputs": [
    {
     "data": {
      "text/html": [
       "<div>\n",
       "<style scoped>\n",
       "    .dataframe tbody tr th:only-of-type {\n",
       "        vertical-align: middle;\n",
       "    }\n",
       "\n",
       "    .dataframe tbody tr th {\n",
       "        vertical-align: top;\n",
       "    }\n",
       "\n",
       "    .dataframe thead th {\n",
       "        text-align: right;\n",
       "    }\n",
       "</style>\n",
       "<table border=\"1\" class=\"dataframe\">\n",
       "  <thead>\n",
       "    <tr style=\"text-align: right;\">\n",
       "      <th></th>\n",
       "      <th>Unnamed: 0</th>\n",
       "      <th>Year</th>\n",
       "      <th>Lag1</th>\n",
       "      <th>Lag2</th>\n",
       "      <th>Lag3</th>\n",
       "      <th>Lag4</th>\n",
       "      <th>Lag5</th>\n",
       "      <th>Volume</th>\n",
       "      <th>Today</th>\n",
       "      <th>Direction</th>\n",
       "      <th>Down</th>\n",
       "      <th>Up</th>\n",
       "      <th>actual_label</th>\n",
       "    </tr>\n",
       "  </thead>\n",
       "  <tbody>\n",
       "    <tr>\n",
       "      <th>0</th>\n",
       "      <td>1</td>\n",
       "      <td>2001</td>\n",
       "      <td>0.381</td>\n",
       "      <td>-0.192</td>\n",
       "      <td>-2.624</td>\n",
       "      <td>-1.055</td>\n",
       "      <td>5.010</td>\n",
       "      <td>1.1913</td>\n",
       "      <td>0.959</td>\n",
       "      <td>Up</td>\n",
       "      <td>0</td>\n",
       "      <td>1</td>\n",
       "      <td>1</td>\n",
       "    </tr>\n",
       "    <tr>\n",
       "      <th>1</th>\n",
       "      <td>2</td>\n",
       "      <td>2001</td>\n",
       "      <td>0.959</td>\n",
       "      <td>0.381</td>\n",
       "      <td>-0.192</td>\n",
       "      <td>-2.624</td>\n",
       "      <td>-1.055</td>\n",
       "      <td>1.2965</td>\n",
       "      <td>1.032</td>\n",
       "      <td>Up</td>\n",
       "      <td>0</td>\n",
       "      <td>1</td>\n",
       "      <td>1</td>\n",
       "    </tr>\n",
       "    <tr>\n",
       "      <th>2</th>\n",
       "      <td>3</td>\n",
       "      <td>2001</td>\n",
       "      <td>1.032</td>\n",
       "      <td>0.959</td>\n",
       "      <td>0.381</td>\n",
       "      <td>-0.192</td>\n",
       "      <td>-2.624</td>\n",
       "      <td>1.4112</td>\n",
       "      <td>-0.623</td>\n",
       "      <td>Down</td>\n",
       "      <td>1</td>\n",
       "      <td>0</td>\n",
       "      <td>0</td>\n",
       "    </tr>\n",
       "    <tr>\n",
       "      <th>3</th>\n",
       "      <td>4</td>\n",
       "      <td>2001</td>\n",
       "      <td>-0.623</td>\n",
       "      <td>1.032</td>\n",
       "      <td>0.959</td>\n",
       "      <td>0.381</td>\n",
       "      <td>-0.192</td>\n",
       "      <td>1.2760</td>\n",
       "      <td>0.614</td>\n",
       "      <td>Up</td>\n",
       "      <td>0</td>\n",
       "      <td>1</td>\n",
       "      <td>1</td>\n",
       "    </tr>\n",
       "    <tr>\n",
       "      <th>4</th>\n",
       "      <td>5</td>\n",
       "      <td>2001</td>\n",
       "      <td>0.614</td>\n",
       "      <td>-0.623</td>\n",
       "      <td>1.032</td>\n",
       "      <td>0.959</td>\n",
       "      <td>0.381</td>\n",
       "      <td>1.2057</td>\n",
       "      <td>0.213</td>\n",
       "      <td>Up</td>\n",
       "      <td>0</td>\n",
       "      <td>1</td>\n",
       "      <td>1</td>\n",
       "    </tr>\n",
       "  </tbody>\n",
       "</table>\n",
       "</div>"
      ],
      "text/plain": [
       "   Unnamed: 0  Year   Lag1   Lag2   Lag3   Lag4   Lag5  Volume  Today  \\\n",
       "0           1  2001  0.381 -0.192 -2.624 -1.055  5.010  1.1913  0.959   \n",
       "1           2  2001  0.959  0.381 -0.192 -2.624 -1.055  1.2965  1.032   \n",
       "2           3  2001  1.032  0.959  0.381 -0.192 -2.624  1.4112 -0.623   \n",
       "3           4  2001 -0.623  1.032  0.959  0.381 -0.192  1.2760  0.614   \n",
       "4           5  2001  0.614 -0.623  1.032  0.959  0.381  1.2057  0.213   \n",
       "\n",
       "  Direction  Down  Up  actual_label  \n",
       "0        Up     0   1             1  \n",
       "1        Up     0   1             1  \n",
       "2      Down     1   0             0  \n",
       "3        Up     0   1             1  \n",
       "4        Up     0   1             1  "
      ]
     },
     "execution_count": 2,
     "metadata": {},
     "output_type": "execute_result"
    }
   ],
   "source": [
    "# Read Smarket.csv into a Dataframe named stocks\n",
    "stocks = pd.read_csv('Data/Smarket.csv') \n",
    "\n",
    "stocks_up = pd.get_dummies(stocks['Direction'])\n",
    "# Join the dummy variables to the main dataframe\n",
    "stocks_new = pd.concat([stocks, stocks_up], axis=1)\n",
    "\n",
    "stocks_new[\"actual_label\"] = stocks_new[\"Up\"]\n",
    "stocks_new.head()"
   ]
  },
  {
   "cell_type": "code",
   "execution_count": 3,
   "metadata": {},
   "outputs": [],
   "source": [
    "# define a regression model\n",
    "reg = LogisticRegression()\n",
    "x_columns = [\"Lag1\", \"Lag2\", \"Lag3\", \"Lag4\", \"Lag5\", \"Volume\"]"
   ]
  },
  {
   "cell_type": "code",
   "execution_count": 4,
   "metadata": {},
   "outputs": [],
   "source": [
    "# define k-fold\n",
    "kf = KFold(n_splits = 5, shuffle=True, random_state=18)"
   ]
  },
  {
   "cell_type": "code",
   "execution_count": 5,
   "metadata": {},
   "outputs": [
    {
     "name": "stdout",
     "output_type": "stream",
     "text": [
      "[0.512 0.488 0.476 0.488 0.5  ]\n",
      "Average Accuracy =  0.4928\n"
     ]
    }
   ],
   "source": [
    "# calculate accuracy score for each k-fold split\n",
    "accuracy = cross_val_score(reg,stocks_new[x_columns], stocks_new[\"actual_label\"], scoring=\"accuracy\", cv=kf)\n",
    "avg_accuracy = sum(accuracy) / len(accuracy)\n",
    "print(accuracy)\n",
    "print(\"Average Accuracy = \", avg_accuracy)"
   ]
  },
  {
   "cell_type": "code",
   "execution_count": 6,
   "metadata": {},
   "outputs": [
    {
     "name": "stdout",
     "output_type": "stream",
     "text": [
      "[0.51384615 0.47624232 0.46574273 0.46748671 0.51299283]\n",
      "Average AUC =  0.4872621472436573\n"
     ]
    }
   ],
   "source": [
    "# calculate auc score for each k-fold split\n",
    "roc_auc = cross_val_score(reg,stocks_new[x_columns], stocks_new[\"actual_label\"], scoring=\"roc_auc\", cv=kf)\n",
    "avg_roc_auc = sum(roc_auc) / len(roc_auc)\n",
    "print(roc_auc)\n",
    "print(\"Average AUC = \", avg_roc_auc)"
   ]
  }
 ],
 "metadata": {
  "kernelspec": {
   "display_name": "Python 3",
   "language": "python",
   "name": "python3"
  },
  "language_info": {
   "codemirror_mode": {
    "name": "ipython",
    "version": 3
   },
   "file_extension": ".py",
   "mimetype": "text/x-python",
   "name": "python",
   "nbconvert_exporter": "python",
   "pygments_lexer": "ipython3",
   "version": "3.6.5"
  }
 },
 "nbformat": 4,
 "nbformat_minor": 1
}
