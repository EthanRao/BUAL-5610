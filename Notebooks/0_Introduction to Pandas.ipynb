{
 "cells": [
  {
   "cell_type": "markdown",
   "metadata": {},
   "source": [
    "# 1: Pandas\n",
    "\n",
    "Pandas is a library that unifies the most common workflows that data analysts and data scientists previously relied on many different libraries for. Pandas has quickly became an important tool in a data professional's toolbelt and is the most popular library for working with tabular data in Python. Tabular data is any data that can be represented as rows and columns. \n",
    "\n",
    "To represent tabular data, Pandas uses a custom data structure called a **DataFrame**. A DataFrame is a highly efficient, 2-dimensional data structure that provides a suite of methods and attributes to quickly explore, analyze, and visualize data. The DataFrame object is similar to the NumPy 2D array but adds support for many features that help you work with tabular data.\n",
    "\n",
    "One of the biggest advantages that Pandas has over NumPy is the ability to store mixed data types in rows and columns. Many tabular datasets contain a range of data types and Pandas DataFrames handle mixed data types effortlessly while NumPy doesn't. Pandas DataFrames can also handle missing values gracefully using a custom object, **NaN**, to represent those values. A common complaint with NumPy is its lack of an object to represent missing values and people end up having to find and replace these values manually. In addition, Pandas DataFrames contain axis labels for both rows and columns and enable you to refer to elements in the DataFrame more intuitively. Since many tabular datasets contain column titles, this means that DataFrames preserve the metadata from the file around the data.\n",
    "\n"
   ]
  },
  {
   "cell_type": "markdown",
   "metadata": {},
   "source": [
    "## 2: Dataset\n",
    "\n",
    "In this mission, you'll learn the basics of Pandas while exploring the **Auto** dataset from the textbook. This dataset contains Gas mileage, horsepower, and other information for cars.\n",
    "\n",
    "\n"
   ]
  },
  {
   "cell_type": "markdown",
   "metadata": {},
   "source": [
    "## 3: Read In A CSV File\n",
    "To use the Pandas library, we need to import it into the environment using the import keyword:\n",
    "\n",
    "    import pandas\n",
    "    \n",
    "We can then refer to the module using pandas and use dot notation to call its methods. To read a CSV file into a DataFrame, we use the Pandas method read_csv() and pass in the file name as a string:\n",
    "\n",
    "\n",
    "\n",
    "    # To read in the file `crime_rates.csv` into a DataFrame object named crime_rates.\n",
    "    crime_rates = pandas.read_csv(\"crime_rates.csv\")\n",
    "\n",
    "You can read more about the parameters the read_csv() method takes to customize how a file is read in on the documentation page."
   ]
  },
  {
   "cell_type": "code",
   "execution_count": 1,
   "metadata": {},
   "outputs": [
    {
     "name": "stdout",
     "output_type": "stream",
     "text": [
      "<class 'pandas.core.frame.DataFrame'>\n",
      "Int64Index: 392 entries, 0 to 396\n",
      "Data columns (total 9 columns):\n",
      "mpg             392 non-null float64\n",
      "cylinders       392 non-null int64\n",
      "displacement    392 non-null float64\n",
      "horsepower      392 non-null float64\n",
      "weight          392 non-null int64\n",
      "acceleration    392 non-null float64\n",
      "year            392 non-null int64\n",
      "origin          392 non-null int64\n",
      "name            392 non-null object\n",
      "dtypes: float64(4), int64(4), object(1)\n",
      "memory usage: 30.6+ KB\n",
      "None\n"
     ]
    },
    {
     "data": {
      "text/html": [
       "<div>\n",
       "<style scoped>\n",
       "    .dataframe tbody tr th:only-of-type {\n",
       "        vertical-align: middle;\n",
       "    }\n",
       "\n",
       "    .dataframe tbody tr th {\n",
       "        vertical-align: top;\n",
       "    }\n",
       "\n",
       "    .dataframe thead th {\n",
       "        text-align: right;\n",
       "    }\n",
       "</style>\n",
       "<table border=\"1\" class=\"dataframe\">\n",
       "  <thead>\n",
       "    <tr style=\"text-align: right;\">\n",
       "      <th></th>\n",
       "      <th>mpg</th>\n",
       "      <th>cylinders</th>\n",
       "      <th>displacement</th>\n",
       "      <th>horsepower</th>\n",
       "      <th>weight</th>\n",
       "      <th>acceleration</th>\n",
       "      <th>year</th>\n",
       "      <th>origin</th>\n",
       "      <th>name</th>\n",
       "    </tr>\n",
       "  </thead>\n",
       "  <tbody>\n",
       "    <tr>\n",
       "      <th>0</th>\n",
       "      <td>18.0</td>\n",
       "      <td>8</td>\n",
       "      <td>307.0</td>\n",
       "      <td>130.0</td>\n",
       "      <td>3504</td>\n",
       "      <td>12.0</td>\n",
       "      <td>70</td>\n",
       "      <td>1</td>\n",
       "      <td>chevrolet chevelle malibu</td>\n",
       "    </tr>\n",
       "    <tr>\n",
       "      <th>1</th>\n",
       "      <td>15.0</td>\n",
       "      <td>8</td>\n",
       "      <td>350.0</td>\n",
       "      <td>165.0</td>\n",
       "      <td>3693</td>\n",
       "      <td>11.5</td>\n",
       "      <td>70</td>\n",
       "      <td>1</td>\n",
       "      <td>buick skylark 320</td>\n",
       "    </tr>\n",
       "    <tr>\n",
       "      <th>2</th>\n",
       "      <td>18.0</td>\n",
       "      <td>8</td>\n",
       "      <td>318.0</td>\n",
       "      <td>150.0</td>\n",
       "      <td>3436</td>\n",
       "      <td>11.0</td>\n",
       "      <td>70</td>\n",
       "      <td>1</td>\n",
       "      <td>plymouth satellite</td>\n",
       "    </tr>\n",
       "    <tr>\n",
       "      <th>3</th>\n",
       "      <td>16.0</td>\n",
       "      <td>8</td>\n",
       "      <td>304.0</td>\n",
       "      <td>150.0</td>\n",
       "      <td>3433</td>\n",
       "      <td>12.0</td>\n",
       "      <td>70</td>\n",
       "      <td>1</td>\n",
       "      <td>amc rebel sst</td>\n",
       "    </tr>\n",
       "    <tr>\n",
       "      <th>4</th>\n",
       "      <td>17.0</td>\n",
       "      <td>8</td>\n",
       "      <td>302.0</td>\n",
       "      <td>140.0</td>\n",
       "      <td>3449</td>\n",
       "      <td>10.5</td>\n",
       "      <td>70</td>\n",
       "      <td>1</td>\n",
       "      <td>ford torino</td>\n",
       "    </tr>\n",
       "  </tbody>\n",
       "</table>\n",
       "</div>"
      ],
      "text/plain": [
       "    mpg  cylinders  displacement  horsepower  weight  acceleration  year  \\\n",
       "0  18.0          8         307.0       130.0    3504          12.0    70   \n",
       "1  15.0          8         350.0       165.0    3693          11.5    70   \n",
       "2  18.0          8         318.0       150.0    3436          11.0    70   \n",
       "3  16.0          8         304.0       150.0    3433          12.0    70   \n",
       "4  17.0          8         302.0       140.0    3449          10.5    70   \n",
       "\n",
       "   origin                       name  \n",
       "0       1  chevrolet chevelle malibu  \n",
       "1       1          buick skylark 320  \n",
       "2       1         plymouth satellite  \n",
       "3       1              amc rebel sst  \n",
       "4       1                ford torino  "
      ]
     },
     "execution_count": 1,
     "metadata": {},
     "output_type": "execute_result"
    }
   ],
   "source": [
    "# Instructions\n",
    "# Import the Pandas library.\n",
    "# Use the Pandas function read_csv() to read the file \"Auto.csv\" into a DataFrame named auto.\n",
    "# Use the type() and print() functions to display the type of auto to confirm that it's a DataFrame object.\n",
    "\n",
    "import pandas as pd\n",
    "auto = pd.read_csv('Data/Auto.csv', na_values='?').dropna()\n",
    "print(auto.info())\n",
    "auto.head()\n"
   ]
  },
  {
   "cell_type": "markdown",
   "metadata": {},
   "source": [
    "## 4: Exploring The DataFrame\n",
    "Now that we've read the dataset into a DataFrame, we can start using the DataFrame methods to explore the data. To select the first 5 rows of a DataFrame, use the DataFrame method head(). When you call the head() method, Pandas will return a new DataFrame containing just the first 5 rows:\n",
    "\n",
    "\n",
    "\n",
    "    first_rows = food_info.head()\n",
    "    \n",
    "If you peek at the documentation, you'll notice that you can pass in an integer (n) into the head() method to display the first n rows instead of the first 5:\n",
    "\n",
    "\n",
    "\n",
    "    # First 3 rows.\n",
    "    print(food_info.head(3))\n",
    "    \n",
    "    \n",
    "Since this DataFrame contains many columns and rows, Pandas uses ellipsis (...) to hide the columns and rows in the middle. Only the first few and the last few columns and rows are displayed to conserve space.\n",
    "\n",
    "To access the full list of column names, use the columns attribute:\n",
    "\n",
    "\n",
    "\n",
    "    column_names = food_info.columns\n",
    "Lastly, you can use the shape attribute to understand the dimensions of the DataFrame. The shape attribute returns a tuple of integers representing the number of rows followed by the number of columns:\n",
    "\n",
    "\n",
    "\n",
    "    # Returns the tuple (8618,36) and assigns to `dimensions`.\n",
    "    dimensions = food_info.shape\n",
    "    \n",
    "    # The number of rows, 8618.\n",
    "    num_rows = dimensions[0]\n",
    "    \n",
    "    # The number of columns, 36.\n",
    "    num_cols = dimensions[1]\n"
   ]
  },
  {
   "cell_type": "code",
   "execution_count": 3,
   "metadata": {},
   "outputs": [
    {
     "name": "stdout",
     "output_type": "stream",
     "text": [
      "<class 'pandas.core.frame.DataFrame'>\n",
      "Int64Index: 20 entries, 0 to 19\n",
      "Data columns (total 9 columns):\n",
      "mpg             20 non-null float64\n",
      "cylinders       20 non-null int64\n",
      "displacement    20 non-null float64\n",
      "horsepower      20 non-null float64\n",
      "weight          20 non-null int64\n",
      "acceleration    20 non-null float64\n",
      "year            20 non-null int64\n",
      "origin          20 non-null int64\n",
      "name            20 non-null object\n",
      "dtypes: float64(4), int64(4), object(1)\n",
      "memory usage: 1.6+ KB\n",
      "None\n"
     ]
    }
   ],
   "source": [
    "# Instructions\n",
    "# Select the first 20 rows from Auto and assign to the variable first_twenty.\n",
    "\n",
    "first_twenty = auto.head(20)\n",
    "print(first_twenty.info())\n"
   ]
  },
  {
   "cell_type": "markdown",
   "metadata": {},
   "source": [
    "## 5: Indexing\n",
    "When you read in a file into a DataFrame, Pandas uses the values in the first row (also known as the header) for the column labels and the row number for the row labels. Collectively, the labels are referred to as the index. DataFrames contain both a row index and a column index. Here's a diagram that displays some of the column and row labels for food_info:\n",
    "\n",
    "The labels allow us to refer to values in the DataFrame, which we'll learn more about in the rest of this mission.\n",
    "\n",
    "## 6: Series\n",
    "The Series object is a core data structure that Pandas uses to represent rows and columns. A Series is a labelled collection of values similar to the NumPy vector. The main advantage of Series objects is the ability to utilize non-integer labels. NumPy arrays can only utilize integer labels for indexing.\n",
    "\n",
    "Pandas utilizes this feature to provide more context when returning a row or a column from a DataFrame. For example, when you select a row from a DataFrame, instead of just returning the values in that row as a list, Pandas returns a Series object that contains the column labels as well as the corresponding values:\n",
    "\n",
    "    \n",
    "## 7: Selecting A Row\n",
    "While we use bracket notation to access elements in a NumPy array or a standard list, we need to use the Pandas method loc[] to select rows in a DataFrame. The loc[] method allows you to select rows by row labels. Recall that when you read a file into a DataFrame, Pandas uses the row number (or position) as each row's label. Pandas uses zero-indexing, so the first row is at index 0, the second row at index 1, and so on.\n",
    "\n",
    "If you're interested in accessing a single row, pass in the row label to the loc[] method. Python will return an error if you don't pass in a valid row label:\n",
    "\n",
    "\n",
    "    # Series object representing the row at index 0.\n",
    "    food_info.loc[0]\n",
    "    # Series object representing the seventh row.\n",
    "    food_info.loc[6]\n",
    "    # Will throw an error: \"KeyError: 'the label [8620] is not in the [index]'\"\n",
    "    food_info.loc[8620]\n",
    "    \n",
    "When accessing an individual row, Pandas returns a Series object containing the column names and that row's value for each column. In the following code cell, we select the first and seventh rows and display them using the print() function.\n",
    "\n"
   ]
  },
  {
   "cell_type": "code",
   "execution_count": 4,
   "metadata": {},
   "outputs": [
    {
     "name": "stdout",
     "output_type": "stream",
     "text": [
      "mpg                     18\n",
      "cylinders                6\n",
      "displacement           232\n",
      "horsepower             100\n",
      "weight                2945\n",
      "acceleration            16\n",
      "year                    73\n",
      "origin                   1\n",
      "name            amc hornet\n",
      "Name: 99, dtype: object\n"
     ]
    }
   ],
   "source": [
    "# Instructions\n",
    "# Assign the 100th row of Auto to the variable hundredth_row.\n",
    "# Display hundredth_row using the print() function.\n",
    "\n",
    "print(auto.loc[99])\n",
    "\n"
   ]
  },
  {
   "cell_type": "markdown",
   "metadata": {},
   "source": [
    "## 8: Data Types\n",
    "When you displayed individual rows, represented as Series objects, you may have noticed the text \"dtype: object\" after the last value. dtype: object refers to the data type, or dtype, of that Series. The object dtype is equivalent to the string type in Python. Pandas borrows from the NumPy type system and contains the following dtypes:\n",
    "\n",
    "object - for representing string values.\n",
    "int - for representing integer values.\n",
    "float - for representing float values.\n",
    "datetime - for representing time values.\n",
    "bool - for representing Boolean values.\n",
    "When reading a file into a DataFrame, Pandas analyzes the values and infers each column's types. To access the types for each column, use the DataFrame attribute dtypes to return a Series containing each column name and its corresponding type. Read more about data types on the Pandas documentation.\n",
    "\n"
   ]
  },
  {
   "cell_type": "markdown",
   "metadata": {},
   "source": [
    "## 9: Selecting Multiple Rows\n",
    "If you're interested in accessing multiple rows of the DataFrame, you can pass in either a slice of row labels or a list of row labels and Pandas will return a DataFrame object. Note that unlike slicing lists in Python, a slice of a DataFrame using .loc[] will include both the start and the end row:\n",
    "\n",
    "\n",
    "\n",
    "    # DataFrame containing the rows at index 3, 4, 5, and 6 returned.\n",
    "    food_info.loc[3:6]\n",
    "    # DataFrame containing the rows at index 2, 5, and 10 returned. Either of the following work.\n",
    "    # Method 1\n",
    "    two_five_ten = [2,5,10] \n",
    "    food_info.loc[two_five_ten]\n",
    "    # Method 2\n",
    "    food_info.loc[[2,5,10]]\n"
   ]
  },
  {
   "cell_type": "code",
   "execution_count": 4,
   "metadata": {
    "collapsed": true
   },
   "outputs": [],
   "source": [
    "# Instructions\n",
    "# Select the last 5 rows of Auto and assign to the variable last_rows.\n",
    "\n",
    "\n",
    "\n"
   ]
  },
  {
   "cell_type": "markdown",
   "metadata": {},
   "source": [
    "## 10: Selecting Individual Columns\n",
    "When accessing a column in a DataFrame, Pandas returns a Series object containing the row label and each row's value for that column. To access a single column, use bracket notation and pass in the column name as a string:\n",
    "\n",
    "\n",
    "\n",
    "    # Series object representing the \"NDB_No\" column.\n",
    "    ndb_col = food_info[\"NDB_No\"]\n",
    "    # You can instead access a column by passing in a string variable.\n",
    "    col_name = \"NDB_No\"\n",
    "    ndb_col = food_info[col_name]\n"
   ]
  },
  {
   "cell_type": "code",
   "execution_count": 5,
   "metadata": {
    "collapsed": true
   },
   "outputs": [],
   "source": [
    "# Instructions\n",
    "# Assign the \"mpg\" column to the variable mpg.\n",
    "# Assign the \"cylinders\" column to the variable cylinders.\n",
    "\n",
    "\n",
    "  \n",
    "\n",
    "\n",
    "\n",
    "\n",
    "\n",
    "\n"
   ]
  },
  {
   "cell_type": "markdown",
   "metadata": {},
   "source": [
    "## 11: Selecting Multiple Columns By Name\n",
    "To select multiple columns, pass in a list of strings representing the column names and Pandas will return a DataFrame containing only the values in those columns. The following code returns a DataFrame containing the \"Zinc_(mg)\" and \"Copper_(mg)\" columns, in that order:\n",
    "\n",
    "    columns = [\"Zinc_(mg)\", \"Copper_(mg)\"]\n",
    "    zinc_copper = food_info[columns]\n",
    "    # Skipping the assignment.\n",
    "    zinc_copper = food_info[[\"Zinc_(mg)\", \"Copper_(mg)\"]]\n",
    "When selecting multiple columns, the order of the columns in the returned DataFrame matches the order of the column names in the list of strings that you passed in. This allows you to easily explore specific columns that may not be positioned next to each other in the DataFrame.\n",
    "\n",
    "Instructions\n"
   ]
  },
  {
   "cell_type": "code",
   "execution_count": 6,
   "metadata": {
    "collapsed": true
   },
   "outputs": [],
   "source": [
    "# Instructions\n",
    "\n",
    "# Select the 'mpg' and 'cylinders' columns and assign the resulting DataFrame to mpg_cylinders.\n",
    "\n",
    "\n",
    "\n",
    "\n",
    "\n",
    "\n",
    "\n"
   ]
  }
 ],
 "metadata": {
  "kernelspec": {
   "display_name": "Python 3",
   "language": "python",
   "name": "python3"
  },
  "language_info": {
   "codemirror_mode": {
    "name": "ipython",
    "version": 3
   },
   "file_extension": ".py",
   "mimetype": "text/x-python",
   "name": "python",
   "nbconvert_exporter": "python",
   "pygments_lexer": "ipython3",
   "version": "3.6.5"
  }
 },
 "nbformat": 4,
 "nbformat_minor": 1
}
